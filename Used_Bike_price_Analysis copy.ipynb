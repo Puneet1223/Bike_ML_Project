{
 "cells": [
  {
   "cell_type": "code",
   "execution_count": 189,
   "id": "e962f630",
   "metadata": {},
   "outputs": [],
   "source": [
    "import numpy as np\n",
    "import pandas as pd\n",
    "import re"
   ]
  },
  {
   "cell_type": "code",
   "execution_count": 190,
   "id": "20174926",
   "metadata": {},
   "outputs": [],
   "source": [
    "df = pd.read_csv('bikes.csv')"
   ]
  },
  {
   "cell_type": "code",
   "execution_count": 191,
   "id": "065f3740",
   "metadata": {},
   "outputs": [
    {
     "data": {
      "text/html": [
       "<div>\n",
       "<style scoped>\n",
       "    .dataframe tbody tr th:only-of-type {\n",
       "        vertical-align: middle;\n",
       "    }\n",
       "\n",
       "    .dataframe tbody tr th {\n",
       "        vertical-align: top;\n",
       "    }\n",
       "\n",
       "    .dataframe thead th {\n",
       "        text-align: right;\n",
       "    }\n",
       "</style>\n",
       "<table border=\"1\" class=\"dataframe\">\n",
       "  <thead>\n",
       "    <tr style=\"text-align: right;\">\n",
       "      <th></th>\n",
       "      <th>model_name</th>\n",
       "      <th>model_year</th>\n",
       "      <th>kms_driven</th>\n",
       "      <th>owner</th>\n",
       "      <th>location</th>\n",
       "      <th>mileage</th>\n",
       "      <th>power</th>\n",
       "      <th>price</th>\n",
       "    </tr>\n",
       "  </thead>\n",
       "  <tbody>\n",
       "    <tr>\n",
       "      <th>0</th>\n",
       "      <td>Bajaj Avenger Cruise 220 2017</td>\n",
       "      <td>2017</td>\n",
       "      <td>17000 Km</td>\n",
       "      <td>first owner</td>\n",
       "      <td>hyderabad</td>\n",
       "      <td>\\n\\n 35 kmpl</td>\n",
       "      <td>19 bhp</td>\n",
       "      <td>63500</td>\n",
       "    </tr>\n",
       "    <tr>\n",
       "      <th>1</th>\n",
       "      <td>Royal Enfield Classic 350cc 2016</td>\n",
       "      <td>2016</td>\n",
       "      <td>50000 Km</td>\n",
       "      <td>first owner</td>\n",
       "      <td>hyderabad</td>\n",
       "      <td>\\n\\n 35 kmpl</td>\n",
       "      <td>19.80 bhp</td>\n",
       "      <td>115000</td>\n",
       "    </tr>\n",
       "    <tr>\n",
       "      <th>2</th>\n",
       "      <td>Hyosung GT250R 2012</td>\n",
       "      <td>2012</td>\n",
       "      <td>14795 Km</td>\n",
       "      <td>first owner</td>\n",
       "      <td>hyderabad</td>\n",
       "      <td>\\n\\n 30 kmpl</td>\n",
       "      <td>28 bhp</td>\n",
       "      <td>300000</td>\n",
       "    </tr>\n",
       "    <tr>\n",
       "      <th>3</th>\n",
       "      <td>Bajaj Dominar 400 ABS 2017</td>\n",
       "      <td>2017</td>\n",
       "      <td>Mileage 28 Kms</td>\n",
       "      <td>first owner</td>\n",
       "      <td>pondicherry</td>\n",
       "      <td>\\n\\n 28 Kms</td>\n",
       "      <td>34.50 bhp</td>\n",
       "      <td>100000</td>\n",
       "    </tr>\n",
       "    <tr>\n",
       "      <th>4</th>\n",
       "      <td>Jawa Perak 330cc 2020</td>\n",
       "      <td>2020</td>\n",
       "      <td>2000 Km</td>\n",
       "      <td>first owner</td>\n",
       "      <td>bangalore</td>\n",
       "      <td>\\n\\n</td>\n",
       "      <td>30 bhp</td>\n",
       "      <td>197500</td>\n",
       "    </tr>\n",
       "  </tbody>\n",
       "</table>\n",
       "</div>"
      ],
      "text/plain": [
       "                         model_name  model_year      kms_driven        owner  \\\n",
       "0     Bajaj Avenger Cruise 220 2017        2017        17000 Km  first owner   \n",
       "1  Royal Enfield Classic 350cc 2016        2016        50000 Km  first owner   \n",
       "2               Hyosung GT250R 2012        2012        14795 Km  first owner   \n",
       "3        Bajaj Dominar 400 ABS 2017        2017  Mileage 28 Kms  first owner   \n",
       "4             Jawa Perak 330cc 2020        2020         2000 Km  first owner   \n",
       "\n",
       "      location       mileage      power   price  \n",
       "0    hyderabad  \\n\\n 35 kmpl     19 bhp   63500  \n",
       "1    hyderabad  \\n\\n 35 kmpl  19.80 bhp  115000  \n",
       "2    hyderabad  \\n\\n 30 kmpl     28 bhp  300000  \n",
       "3  pondicherry   \\n\\n 28 Kms  34.50 bhp  100000  \n",
       "4    bangalore         \\n\\n      30 bhp  197500  "
      ]
     },
     "execution_count": 191,
     "metadata": {},
     "output_type": "execute_result"
    }
   ],
   "source": [
    "df.head()"
   ]
  },
  {
   "cell_type": "code",
   "execution_count": 192,
   "id": "7df7e30f",
   "metadata": {},
   "outputs": [
    {
     "data": {
      "text/html": [
       "<div>\n",
       "<style scoped>\n",
       "    .dataframe tbody tr th:only-of-type {\n",
       "        vertical-align: middle;\n",
       "    }\n",
       "\n",
       "    .dataframe tbody tr th {\n",
       "        vertical-align: top;\n",
       "    }\n",
       "\n",
       "    .dataframe thead th {\n",
       "        text-align: right;\n",
       "    }\n",
       "</style>\n",
       "<table border=\"1\" class=\"dataframe\">\n",
       "  <thead>\n",
       "    <tr style=\"text-align: right;\">\n",
       "      <th></th>\n",
       "      <th>model_year</th>\n",
       "      <th>price</th>\n",
       "    </tr>\n",
       "  </thead>\n",
       "  <tbody>\n",
       "    <tr>\n",
       "      <th>count</th>\n",
       "      <td>7857.000000</td>\n",
       "      <td>7.857000e+03</td>\n",
       "    </tr>\n",
       "    <tr>\n",
       "      <th>mean</th>\n",
       "      <td>2015.367698</td>\n",
       "      <td>1.067913e+05</td>\n",
       "    </tr>\n",
       "    <tr>\n",
       "      <th>std</th>\n",
       "      <td>4.001443</td>\n",
       "      <td>1.389261e+05</td>\n",
       "    </tr>\n",
       "    <tr>\n",
       "      <th>min</th>\n",
       "      <td>1950.000000</td>\n",
       "      <td>0.000000e+00</td>\n",
       "    </tr>\n",
       "    <tr>\n",
       "      <th>25%</th>\n",
       "      <td>2014.000000</td>\n",
       "      <td>4.200000e+04</td>\n",
       "    </tr>\n",
       "    <tr>\n",
       "      <th>50%</th>\n",
       "      <td>2016.000000</td>\n",
       "      <td>7.500000e+04</td>\n",
       "    </tr>\n",
       "    <tr>\n",
       "      <th>75%</th>\n",
       "      <td>2018.000000</td>\n",
       "      <td>1.250000e+05</td>\n",
       "    </tr>\n",
       "    <tr>\n",
       "      <th>max</th>\n",
       "      <td>2021.000000</td>\n",
       "      <td>3.000000e+06</td>\n",
       "    </tr>\n",
       "  </tbody>\n",
       "</table>\n",
       "</div>"
      ],
      "text/plain": [
       "        model_year         price\n",
       "count  7857.000000  7.857000e+03\n",
       "mean   2015.367698  1.067913e+05\n",
       "std       4.001443  1.389261e+05\n",
       "min    1950.000000  0.000000e+00\n",
       "25%    2014.000000  4.200000e+04\n",
       "50%    2016.000000  7.500000e+04\n",
       "75%    2018.000000  1.250000e+05\n",
       "max    2021.000000  3.000000e+06"
      ]
     },
     "execution_count": 192,
     "metadata": {},
     "output_type": "execute_result"
    }
   ],
   "source": [
    "df.describe()"
   ]
  },
  {
   "cell_type": "code",
   "execution_count": 193,
   "id": "9ba9a8b0",
   "metadata": {},
   "outputs": [
    {
     "data": {
      "text/html": [
       "<div>\n",
       "<style scoped>\n",
       "    .dataframe tbody tr th:only-of-type {\n",
       "        vertical-align: middle;\n",
       "    }\n",
       "\n",
       "    .dataframe tbody tr th {\n",
       "        vertical-align: top;\n",
       "    }\n",
       "\n",
       "    .dataframe thead th {\n",
       "        text-align: right;\n",
       "    }\n",
       "</style>\n",
       "<table border=\"1\" class=\"dataframe\">\n",
       "  <thead>\n",
       "    <tr style=\"text-align: right;\">\n",
       "      <th></th>\n",
       "      <th>model_name</th>\n",
       "      <th>model_year</th>\n",
       "      <th>kms_driven</th>\n",
       "      <th>owner</th>\n",
       "      <th>location</th>\n",
       "      <th>mileage</th>\n",
       "      <th>power</th>\n",
       "      <th>price</th>\n",
       "    </tr>\n",
       "  </thead>\n",
       "  <tbody>\n",
       "    <tr>\n",
       "      <th>0</th>\n",
       "      <td>False</td>\n",
       "      <td>False</td>\n",
       "      <td>False</td>\n",
       "      <td>False</td>\n",
       "      <td>False</td>\n",
       "      <td>False</td>\n",
       "      <td>False</td>\n",
       "      <td>False</td>\n",
       "    </tr>\n",
       "    <tr>\n",
       "      <th>1</th>\n",
       "      <td>False</td>\n",
       "      <td>False</td>\n",
       "      <td>False</td>\n",
       "      <td>False</td>\n",
       "      <td>False</td>\n",
       "      <td>False</td>\n",
       "      <td>False</td>\n",
       "      <td>False</td>\n",
       "    </tr>\n",
       "    <tr>\n",
       "      <th>2</th>\n",
       "      <td>False</td>\n",
       "      <td>False</td>\n",
       "      <td>False</td>\n",
       "      <td>False</td>\n",
       "      <td>False</td>\n",
       "      <td>False</td>\n",
       "      <td>False</td>\n",
       "      <td>False</td>\n",
       "    </tr>\n",
       "    <tr>\n",
       "      <th>3</th>\n",
       "      <td>False</td>\n",
       "      <td>False</td>\n",
       "      <td>False</td>\n",
       "      <td>False</td>\n",
       "      <td>False</td>\n",
       "      <td>False</td>\n",
       "      <td>False</td>\n",
       "      <td>False</td>\n",
       "    </tr>\n",
       "    <tr>\n",
       "      <th>4</th>\n",
       "      <td>False</td>\n",
       "      <td>False</td>\n",
       "      <td>False</td>\n",
       "      <td>False</td>\n",
       "      <td>False</td>\n",
       "      <td>False</td>\n",
       "      <td>False</td>\n",
       "      <td>False</td>\n",
       "    </tr>\n",
       "    <tr>\n",
       "      <th>...</th>\n",
       "      <td>...</td>\n",
       "      <td>...</td>\n",
       "      <td>...</td>\n",
       "      <td>...</td>\n",
       "      <td>...</td>\n",
       "      <td>...</td>\n",
       "      <td>...</td>\n",
       "      <td>...</td>\n",
       "    </tr>\n",
       "    <tr>\n",
       "      <th>7852</th>\n",
       "      <td>False</td>\n",
       "      <td>False</td>\n",
       "      <td>False</td>\n",
       "      <td>False</td>\n",
       "      <td>False</td>\n",
       "      <td>False</td>\n",
       "      <td>False</td>\n",
       "      <td>False</td>\n",
       "    </tr>\n",
       "    <tr>\n",
       "      <th>7853</th>\n",
       "      <td>False</td>\n",
       "      <td>False</td>\n",
       "      <td>False</td>\n",
       "      <td>False</td>\n",
       "      <td>False</td>\n",
       "      <td>False</td>\n",
       "      <td>False</td>\n",
       "      <td>False</td>\n",
       "    </tr>\n",
       "    <tr>\n",
       "      <th>7854</th>\n",
       "      <td>False</td>\n",
       "      <td>False</td>\n",
       "      <td>False</td>\n",
       "      <td>False</td>\n",
       "      <td>False</td>\n",
       "      <td>False</td>\n",
       "      <td>False</td>\n",
       "      <td>False</td>\n",
       "    </tr>\n",
       "    <tr>\n",
       "      <th>7855</th>\n",
       "      <td>False</td>\n",
       "      <td>False</td>\n",
       "      <td>False</td>\n",
       "      <td>False</td>\n",
       "      <td>False</td>\n",
       "      <td>False</td>\n",
       "      <td>False</td>\n",
       "      <td>False</td>\n",
       "    </tr>\n",
       "    <tr>\n",
       "      <th>7856</th>\n",
       "      <td>False</td>\n",
       "      <td>False</td>\n",
       "      <td>False</td>\n",
       "      <td>False</td>\n",
       "      <td>False</td>\n",
       "      <td>False</td>\n",
       "      <td>False</td>\n",
       "      <td>False</td>\n",
       "    </tr>\n",
       "  </tbody>\n",
       "</table>\n",
       "<p>7857 rows × 8 columns</p>\n",
       "</div>"
      ],
      "text/plain": [
       "      model_name  model_year  kms_driven  owner  location  mileage  power  \\\n",
       "0          False       False       False  False     False    False  False   \n",
       "1          False       False       False  False     False    False  False   \n",
       "2          False       False       False  False     False    False  False   \n",
       "3          False       False       False  False     False    False  False   \n",
       "4          False       False       False  False     False    False  False   \n",
       "...          ...         ...         ...    ...       ...      ...    ...   \n",
       "7852       False       False       False  False     False    False  False   \n",
       "7853       False       False       False  False     False    False  False   \n",
       "7854       False       False       False  False     False    False  False   \n",
       "7855       False       False       False  False     False    False  False   \n",
       "7856       False       False       False  False     False    False  False   \n",
       "\n",
       "      price  \n",
       "0     False  \n",
       "1     False  \n",
       "2     False  \n",
       "3     False  \n",
       "4     False  \n",
       "...     ...  \n",
       "7852  False  \n",
       "7853  False  \n",
       "7854  False  \n",
       "7855  False  \n",
       "7856  False  \n",
       "\n",
       "[7857 rows x 8 columns]"
      ]
     },
     "execution_count": 193,
     "metadata": {},
     "output_type": "execute_result"
    }
   ],
   "source": [
    "df.isnull()"
   ]
  },
  {
   "cell_type": "code",
   "execution_count": 194,
   "id": "5a30bb69",
   "metadata": {},
   "outputs": [
    {
     "data": {
      "text/plain": [
       "model_name     0\n",
       "model_year     0\n",
       "kms_driven     0\n",
       "owner          0\n",
       "location      19\n",
       "mileage       11\n",
       "power         31\n",
       "price          0\n",
       "dtype: int64"
      ]
     },
     "execution_count": 194,
     "metadata": {},
     "output_type": "execute_result"
    }
   ],
   "source": [
    "df.isna().sum()"
   ]
  },
  {
   "cell_type": "code",
   "execution_count": 195,
   "id": "52fed74b",
   "metadata": {},
   "outputs": [
    {
     "data": {
      "text/plain": [
       "0"
      ]
     },
     "execution_count": 195,
     "metadata": {},
     "output_type": "execute_result"
    }
   ],
   "source": [
    "df.duplicated().sum()"
   ]
  },
  {
   "cell_type": "code",
   "execution_count": 196,
   "id": "2ea57eed",
   "metadata": {},
   "outputs": [
    {
     "name": "stdout",
     "output_type": "stream",
     "text": [
      "<class 'pandas.core.frame.DataFrame'>\n",
      "RangeIndex: 7857 entries, 0 to 7856\n",
      "Data columns (total 8 columns):\n",
      " #   Column      Non-Null Count  Dtype \n",
      "---  ------      --------------  ----- \n",
      " 0   model_name  7857 non-null   object\n",
      " 1   model_year  7857 non-null   int64 \n",
      " 2   kms_driven  7857 non-null   object\n",
      " 3   owner       7857 non-null   object\n",
      " 4   location    7838 non-null   object\n",
      " 5   mileage     7846 non-null   object\n",
      " 6   power       7826 non-null   object\n",
      " 7   price       7857 non-null   int64 \n",
      "dtypes: int64(2), object(6)\n",
      "memory usage: 491.2+ KB\n"
     ]
    }
   ],
   "source": [
    "df.info()"
   ]
  },
  {
   "cell_type": "code",
   "execution_count": 197,
   "id": "a8896f26",
   "metadata": {},
   "outputs": [
    {
     "data": {
      "text/plain": [
       "(7857, 8)"
      ]
     },
     "execution_count": 197,
     "metadata": {},
     "output_type": "execute_result"
    }
   ],
   "source": [
    "df.shape"
   ]
  },
  {
   "cell_type": "code",
   "execution_count": 198,
   "id": "8d1c13fb",
   "metadata": {},
   "outputs": [],
   "source": [
    "cc = []\n",
    "\n",
    "for veh in df.model_name:\n",
    "    models = veh.split(\" \")\n",
    "    models = \" \".join(models[:len(models)-1]).lower()\n",
    "\n",
    "    # Case 1: if \"xxxcc\" is in models\n",
    "    if re.search('[0-9]*cc', models, flags=re.I) is not None:\n",
    "        if models[re.search('[0-9]*cc', models, flags=re.I).start():\n",
    "                  re.search('[0-9]*cc', models, flags=re.I).end()] not in ['cc']:\n",
    "            cc.append(models[re.search('[0-9]*cc', models, flags=re.I).start():\n",
    "                              re.search('[0-9]*cc', models, flags=re.I).end()])\n",
    "        else:\n",
    "            cc.append(models)\n",
    "    \n",
    "    # Case 2: if \"xxx cc\" (with space) is in models\n",
    "    elif re.search('[0-9]* (cc)', models, flags=re.I) is not None:\n",
    "        cc.append(models[re.search('[0-9]* (cc)', models, flags=re.I).start():\n",
    "                          re.search('[0-9]* (cc)', models, flags=re.I).end()])\n",
    "\n",
    "    # Case 3: special handling for Hyosung\n",
    "    elif \"hyosung\" in models:\n",
    "        cc.append(models)\n",
    "\n",
    "    # Case 4: otherwise, append full model name\n",
    "    else:\n",
    "        cc.append(models)\n"
   ]
  },
  {
   "cell_type": "code",
   "execution_count": 199,
   "id": "03f51ded",
   "metadata": {},
   "outputs": [],
   "source": [
    "for i in range(len(cc)):\n",
    "    if \"1000\" in cc[i]:\n",
    "     cc[i] = \"1000cc\"\n",
    "\n",
    "    elif \"310\" in cc[i]:\n",
    "     cc[i] = \"310cc\"\n",
    "    elif \"apache rtr 200\" in cc[i]:\n",
    "     cc[i] = \"200cc\"\n",
    "    elif \"ns200\" in cc[i]:\n",
    "     cc[i] = \"200cc\"\n",
    "    elif \"rs200\" in cc[i]:\n",
    "     cc[i] = \"200cc\"\n",
    "    elif \"220\" in cc[i]:\n",
    "     cc[i] = \"220cc\"\n",
    "    elif \"400\" in cc[i]:\n",
    "     cc[i] = \"400cc\"\n",
    "    elif \"250\" in cc[i]:\n",
    "     cc[i] = \"250cc\"\n",
    "    elif \"125\" in cc[i]:\n",
    "     cc[i] = \"125cc\"\n",
    "    elif \"160\" in cc[i]:\n",
    "     cc[i] = \"160cc\"\n",
    "    elif \"150\" in cc[i]:\n",
    "     cc[i] = \"150cc\"\n",
    "    elif \"350\" in cc[i]:\n",
    "     cc[i] = \"350cc\"\n",
    "    elif \"200\" in cc[i]:\n",
    "     cc[i] = \"200cc\"\n",
    "    elif \"100\" in cc[i]:\n",
    "     cc[i] = \"100cc\"\n",
    "    elif \"180\" in cc[i]:\n",
    "     cc[i] = \"180cc\"\n",
    "    elif \"110\" in cc[i]:\n",
    "     cc[i] = \"110cc\"\n",
    "    elif \"390\" in cc[i]:\n",
    "     cc[i] = \"390cc\"\n",
    "    elif \"135\" in cc[i]:\n",
    "     cc[i] = \"135cc\"\n",
    "    elif \"r15\" in cc[i]:\n",
    "     cc[i] = \"150cc\"\n",
    "    elif \"650\" in cc[i]:\n",
    "     cc[i] = \"650cc\"\n",
    "    elif \"750\" in cc[i]:\n",
    "     cc[i] = \"750cc\"\n",
    "    elif \"800\" in cc[i]:\n",
    "     cc[i] = \"800cc\"\n",
    "    elif \"300\" in cc[i]:\n",
    "     cc[i] = \"300cc\"\n",
    "    elif \"765\" in cc[i]:\n",
    "     cc[i] = \"765cc\"\n",
    "    elif \"883\" in cc[i]:\n",
    "     cc[i] = \"883cc\"\n",
    "    elif \"797\" in cc[i]:\n",
    "     cc[i] = \"797cc\"\n",
    "\n",
    "    elif \"810\" in cc[i]:\n",
    "     cc[i] = \"810cc\"\n",
    "    elif \"321\" in cc[i]:\n",
    "     cc[i] = \"321cc\"\n",
    "    elif \"821\" in cc[i]:\n",
    "     cc[i] = \"821cc\"\n",
    "    elif \"120\" in cc[i]:\n",
    "     cc[i] = \"120cc\"\n",
    "    elif \"1745\" in cc[i]:\n",
    "     cc[i] = \"1745cc\"\n",
    "    elif \"899\" in cc[i]:\n",
    "     cc[i] = \"899cc\"\n",
    "    elif \"900\" in cc[i]:\n",
    "     cc[i] = \"900cc\"\n",
    "    elif \"302\" in cc[i]:\n",
    "     cc[i] = \"302cc\"\n",
    "    elif \"959\" in cc[i]:\n",
    "     cc[i] = \"959cc\"\n",
    "    elif \"600\" in cc[i]:\n",
    "     cc[i] = \"600cc\"\n",
    "    elif \"502\" in cc[i]:\n",
    "     cc[i] = \"502cc\"\n",
    "    elif \"um renegade\" in cc[i]:\n",
    "     cc[i] = \"279cc\"\n",
    "    elif \"hero splendor\" in cc[i]:\n",
    "     cc[i] = \"97cc\"\n",
    "    elif \"yamaha fz\" in cc[i]:\n",
    "     cc[i] = \"150cc\"\n",
    "    elif \"honda hornet\" in cc[i]:\n",
    "     cc[i] = \"184cc\"\n",
    "    elif \"royal enfield interceptor\" in cc[i]:\n",
    "     cc[i] = \"650cc\"\n",
    "    elif \"hero passion pro\" in cc[i]:\n",
    "     cc[i] = \"113cc\"\n",
    "    elif \"hero passion xpro\" in cc[i]:\n",
    "     cc[i] = \"109cc\"\n",
    "    elif \"harley-davidson street bob\" in cc[i]:\n",
    "     cc[i] = \"1868cc\"\n",
    "    elif \"harley-davidson fat bob\" in cc[i]:\n",
    "     cc[i] = \"1868cc\"\n",
    "    elif \"harley-davidson fat boy\" in cc[i]:\n",
    "     cc[i] = \"1868cc\"\n",
    "    elif \"harley-davidson street rod\" in cc[i]:\n",
    "     cc[i] = \"749cc\"\n",
    "    elif \"zx-10r\" in cc[i]:\n",
    "     cc[i] = \"1000cc\"\n",
    "    elif \"rsv4\" in cc[i]:\n",
    "     cc[i] = \"1099cc\"\n",
    "\n",
    "    elif \"tvs sport\" in cc[i]:\n",
    "     cc[i] = \"109cc\"\n",
    "    elif \"tvs star city\" in cc[i]:\n",
    "     cc[i] = \"109cc\"\n",
    "    elif \"harley-davidson superlow\" in cc[i]:\n",
    "     cc[i] = \"883cc\"\n",
    "    elif \"harley-davidson roadster\" in cc[i]:\n",
    "     cc[i] = \"1202cc\"\n",
    "    elif \"harley-davidson forty eight\" in cc[i]:\n",
    "     cc[i] = \"1202cc\"\n",
    "    elif \"harley-davidson night rod special\" in cc[i]:\n",
    "     cc[i] = '1247cc'\n",
    "    elif \"triumph rocket iii roadster\" in cc[i]:\n",
    "     cc[i] = \"2458cc\"\n",
    "    elif \"triumph thunderbird lt\" in cc[i]:\n",
    "     cc[i] = \"1699cc\"\n",
    "    elif \"kawasaki vulcan s black\" in cc[i]:\n",
    "     cc[i] = \"649cc\"\n",
    "    elif \"mahindra mojo black pearl\" in cc[i]:\n",
    "     cc[i] = \"300cc\"\n",
    "    elif \"ducati diavel carbon\" in cc[i]:\n",
    "     cc[i] = \"1198cc\"\n",
    "    elif \"triumph tiger explorer\" in cc[i]:\n",
    "     cc[i] = \"1215cc\"\n",
    "    elif \"royal enfield continental\" in cc[i]:\n",
    "     cc[i] = \"650cc\"\n",
    "    elif \"triumph street triple s\" in cc[i]:\n",
    "     cc[i] = \"765cc\"\n",
    "    elif \"harley-davidson breakout\" in cc[i]:\n",
    "     cc[i] = \"1868cc\"\n",
    "    elif \"harley-davidson cvo\" in cc[i]:\n",
    "     cc[i] = \"1923cc\""
   ]
  },
  {
   "cell_type": "code",
   "execution_count": 200,
   "id": "71c4a4f8",
   "metadata": {},
   "outputs": [],
   "source": [
    "cc_cleaned = []\n",
    "for i in cc:\n",
    "    match = re.search(r'(\\d+)', str(i))  # extract number\n",
    "    if match:\n",
    "        cc_cleaned.append(int(float(match.group(1))))  # handle decimals too\n",
    "    else:\n",
    "        cc_cleaned.append(None)\n"
   ]
  },
  {
   "cell_type": "code",
   "execution_count": 201,
   "id": "fe7dfe45",
   "metadata": {},
   "outputs": [],
   "source": [
    "df['cc'] = cc_cleaned"
   ]
  },
  {
   "cell_type": "code",
   "execution_count": 202,
   "id": "3566e6ed",
   "metadata": {},
   "outputs": [
    {
     "data": {
      "text/html": [
       "<div>\n",
       "<style scoped>\n",
       "    .dataframe tbody tr th:only-of-type {\n",
       "        vertical-align: middle;\n",
       "    }\n",
       "\n",
       "    .dataframe tbody tr th {\n",
       "        vertical-align: top;\n",
       "    }\n",
       "\n",
       "    .dataframe thead th {\n",
       "        text-align: right;\n",
       "    }\n",
       "</style>\n",
       "<table border=\"1\" class=\"dataframe\">\n",
       "  <thead>\n",
       "    <tr style=\"text-align: right;\">\n",
       "      <th></th>\n",
       "      <th>model_name</th>\n",
       "      <th>model_year</th>\n",
       "      <th>kms_driven</th>\n",
       "      <th>owner</th>\n",
       "      <th>location</th>\n",
       "      <th>mileage</th>\n",
       "      <th>power</th>\n",
       "      <th>price</th>\n",
       "      <th>cc</th>\n",
       "    </tr>\n",
       "  </thead>\n",
       "  <tbody>\n",
       "    <tr>\n",
       "      <th>0</th>\n",
       "      <td>Bajaj Avenger Cruise 220 2017</td>\n",
       "      <td>2017</td>\n",
       "      <td>17000 Km</td>\n",
       "      <td>first owner</td>\n",
       "      <td>hyderabad</td>\n",
       "      <td>\\n\\n 35 kmpl</td>\n",
       "      <td>19 bhp</td>\n",
       "      <td>63500</td>\n",
       "      <td>220</td>\n",
       "    </tr>\n",
       "    <tr>\n",
       "      <th>1</th>\n",
       "      <td>Royal Enfield Classic 350cc 2016</td>\n",
       "      <td>2016</td>\n",
       "      <td>50000 Km</td>\n",
       "      <td>first owner</td>\n",
       "      <td>hyderabad</td>\n",
       "      <td>\\n\\n 35 kmpl</td>\n",
       "      <td>19.80 bhp</td>\n",
       "      <td>115000</td>\n",
       "      <td>350</td>\n",
       "    </tr>\n",
       "    <tr>\n",
       "      <th>2</th>\n",
       "      <td>Hyosung GT250R 2012</td>\n",
       "      <td>2012</td>\n",
       "      <td>14795 Km</td>\n",
       "      <td>first owner</td>\n",
       "      <td>hyderabad</td>\n",
       "      <td>\\n\\n 30 kmpl</td>\n",
       "      <td>28 bhp</td>\n",
       "      <td>300000</td>\n",
       "      <td>250</td>\n",
       "    </tr>\n",
       "    <tr>\n",
       "      <th>3</th>\n",
       "      <td>Bajaj Dominar 400 ABS 2017</td>\n",
       "      <td>2017</td>\n",
       "      <td>Mileage 28 Kms</td>\n",
       "      <td>first owner</td>\n",
       "      <td>pondicherry</td>\n",
       "      <td>\\n\\n 28 Kms</td>\n",
       "      <td>34.50 bhp</td>\n",
       "      <td>100000</td>\n",
       "      <td>400</td>\n",
       "    </tr>\n",
       "    <tr>\n",
       "      <th>4</th>\n",
       "      <td>Jawa Perak 330cc 2020</td>\n",
       "      <td>2020</td>\n",
       "      <td>2000 Km</td>\n",
       "      <td>first owner</td>\n",
       "      <td>bangalore</td>\n",
       "      <td>\\n\\n</td>\n",
       "      <td>30 bhp</td>\n",
       "      <td>197500</td>\n",
       "      <td>330</td>\n",
       "    </tr>\n",
       "  </tbody>\n",
       "</table>\n",
       "</div>"
      ],
      "text/plain": [
       "                         model_name  model_year      kms_driven        owner  \\\n",
       "0     Bajaj Avenger Cruise 220 2017        2017        17000 Km  first owner   \n",
       "1  Royal Enfield Classic 350cc 2016        2016        50000 Km  first owner   \n",
       "2               Hyosung GT250R 2012        2012        14795 Km  first owner   \n",
       "3        Bajaj Dominar 400 ABS 2017        2017  Mileage 28 Kms  first owner   \n",
       "4             Jawa Perak 330cc 2020        2020         2000 Km  first owner   \n",
       "\n",
       "      location       mileage      power   price   cc  \n",
       "0    hyderabad  \\n\\n 35 kmpl     19 bhp   63500  220  \n",
       "1    hyderabad  \\n\\n 35 kmpl  19.80 bhp  115000  350  \n",
       "2    hyderabad  \\n\\n 30 kmpl     28 bhp  300000  250  \n",
       "3  pondicherry   \\n\\n 28 Kms  34.50 bhp  100000  400  \n",
       "4    bangalore         \\n\\n      30 bhp  197500  330  "
      ]
     },
     "execution_count": 202,
     "metadata": {},
     "output_type": "execute_result"
    }
   ],
   "source": [
    "df.head()"
   ]
  },
  {
   "cell_type": "code",
   "execution_count": 203,
   "id": "86c9e65e",
   "metadata": {},
   "outputs": [
    {
     "data": {
      "text/plain": [
       "0"
      ]
     },
     "execution_count": 203,
     "metadata": {},
     "output_type": "execute_result"
    }
   ],
   "source": [
    "df.cc.isna().sum()"
   ]
  },
  {
   "cell_type": "code",
   "execution_count": 204,
   "id": "c6d4831d",
   "metadata": {},
   "outputs": [
    {
     "data": {
      "text/plain": [
       "array(['Aprilia', 'BMW', 'Bajaj', 'Benelli', 'BenelliImperiale', 'Ducati',\n",
       "       'Fb', 'Harley-Davidson', 'Hero', 'Honda', 'Husqvarna', 'Hyosung',\n",
       "       'Ideal', 'Indian', 'Jawa', 'KTM', 'Kawasaki', 'MV', 'Mahindra',\n",
       "       'Moto', 'Royal', 'Suzuki', 'TVS', 'Triumph', 'UM', 'Yamaha',\n",
       "       'Yazdi', 'yamaha'], dtype='<U16')"
      ]
     },
     "execution_count": 204,
     "metadata": {},
     "output_type": "execute_result"
    }
   ],
   "source": [
    "np.unique([i.split()[0] for i in df.model_name])"
   ]
  },
  {
   "cell_type": "code",
   "execution_count": 205,
   "id": "fbfe3a16",
   "metadata": {},
   "outputs": [
    {
     "data": {
      "text/html": [
       "<div>\n",
       "<style scoped>\n",
       "    .dataframe tbody tr th:only-of-type {\n",
       "        vertical-align: middle;\n",
       "    }\n",
       "\n",
       "    .dataframe tbody tr th {\n",
       "        vertical-align: top;\n",
       "    }\n",
       "\n",
       "    .dataframe thead th {\n",
       "        text-align: right;\n",
       "    }\n",
       "</style>\n",
       "<table border=\"1\" class=\"dataframe\">\n",
       "  <thead>\n",
       "    <tr style=\"text-align: right;\">\n",
       "      <th></th>\n",
       "      <th>model_name</th>\n",
       "      <th>model_year</th>\n",
       "      <th>kms_driven</th>\n",
       "      <th>owner</th>\n",
       "      <th>location</th>\n",
       "      <th>mileage</th>\n",
       "      <th>power</th>\n",
       "      <th>price</th>\n",
       "      <th>cc</th>\n",
       "    </tr>\n",
       "  </thead>\n",
       "  <tbody>\n",
       "    <tr>\n",
       "      <th>2809</th>\n",
       "      <td>BenelliImperiale 400 BS6 2020</td>\n",
       "      <td>2020</td>\n",
       "      <td>2800 Km</td>\n",
       "      <td>first owner</td>\n",
       "      <td>mumbai</td>\n",
       "      <td>\\n\\n 35 kmpl</td>\n",
       "      <td>20.7 bhp</td>\n",
       "      <td>207500</td>\n",
       "      <td>400</td>\n",
       "    </tr>\n",
       "    <tr>\n",
       "      <th>2978</th>\n",
       "      <td>BenelliImperiale 400 2020</td>\n",
       "      <td>2020</td>\n",
       "      <td>1500 Km</td>\n",
       "      <td>first owner</td>\n",
       "      <td>mumbai</td>\n",
       "      <td>\\n\\n</td>\n",
       "      <td>20.7 bhp</td>\n",
       "      <td>207500</td>\n",
       "      <td>400</td>\n",
       "    </tr>\n",
       "    <tr>\n",
       "      <th>2979</th>\n",
       "      <td>BenelliImperiale 400 2020</td>\n",
       "      <td>2020</td>\n",
       "      <td>3500 Km</td>\n",
       "      <td>first owner</td>\n",
       "      <td>mumbai</td>\n",
       "      <td>\\n\\n</td>\n",
       "      <td>20.7 bhp</td>\n",
       "      <td>206462</td>\n",
       "      <td>400</td>\n",
       "    </tr>\n",
       "    <tr>\n",
       "      <th>4177</th>\n",
       "      <td>BenelliImperiale 400 2020</td>\n",
       "      <td>2020</td>\n",
       "      <td>3500 Km</td>\n",
       "      <td>first owner</td>\n",
       "      <td>mumbai</td>\n",
       "      <td>\\n\\n</td>\n",
       "      <td>20.7 bhp</td>\n",
       "      <td>220000</td>\n",
       "      <td>400</td>\n",
       "    </tr>\n",
       "    <tr>\n",
       "      <th>4399</th>\n",
       "      <td>BenelliImperiale 400 2020</td>\n",
       "      <td>2020</td>\n",
       "      <td>7700 Km</td>\n",
       "      <td>first owner</td>\n",
       "      <td>bangalore</td>\n",
       "      <td>\\n\\n</td>\n",
       "      <td>20.7 bhp</td>\n",
       "      <td>220000</td>\n",
       "      <td>400</td>\n",
       "    </tr>\n",
       "    <tr>\n",
       "      <th>5177</th>\n",
       "      <td>BenelliImperiale 400 2020</td>\n",
       "      <td>2020</td>\n",
       "      <td>1900 Km</td>\n",
       "      <td>first owner</td>\n",
       "      <td>secunderabad</td>\n",
       "      <td>\\n\\n</td>\n",
       "      <td>20.7 bhp</td>\n",
       "      <td>240000</td>\n",
       "      <td>400</td>\n",
       "    </tr>\n",
       "  </tbody>\n",
       "</table>\n",
       "</div>"
      ],
      "text/plain": [
       "                         model_name  model_year kms_driven        owner  \\\n",
       "2809  BenelliImperiale 400 BS6 2020        2020    2800 Km  first owner   \n",
       "2978      BenelliImperiale 400 2020        2020    1500 Km  first owner   \n",
       "2979      BenelliImperiale 400 2020        2020    3500 Km  first owner   \n",
       "4177      BenelliImperiale 400 2020        2020    3500 Km  first owner   \n",
       "4399      BenelliImperiale 400 2020        2020    7700 Km  first owner   \n",
       "5177      BenelliImperiale 400 2020        2020    1900 Km  first owner   \n",
       "\n",
       "          location       mileage     power   price   cc  \n",
       "2809        mumbai  \\n\\n 35 kmpl  20.7 bhp  207500  400  \n",
       "2978        mumbai         \\n\\n   20.7 bhp  207500  400  \n",
       "2979        mumbai         \\n\\n   20.7 bhp  206462  400  \n",
       "4177        mumbai         \\n\\n   20.7 bhp  220000  400  \n",
       "4399     bangalore         \\n\\n   20.7 bhp  220000  400  \n",
       "5177  secunderabad         \\n\\n   20.7 bhp  240000  400  "
      ]
     },
     "execution_count": 205,
     "metadata": {},
     "output_type": "execute_result"
    }
   ],
   "source": [
    "df[df.model_name.str.contains(\"BenelliImperiale\") > 0]"
   ]
  },
  {
   "cell_type": "code",
   "execution_count": 206,
   "id": "9d16d763",
   "metadata": {},
   "outputs": [],
   "source": [
    "df.model_name.replace('BenelliImperiale 400 2020','BenelliImperiale 400 2020',inplace=True)\n",
    "df.model_name.replace('BenelliImperiale 400 BS6 2020','Benelli Imperiale 400 BS6 2020',inplace=True)"
   ]
  },
  {
   "cell_type": "code",
   "execution_count": 207,
   "id": "329ad439",
   "metadata": {},
   "outputs": [],
   "source": [
    "Brands = [i.split()[0] for i in df.model_name]\n",
    "df['Brand'] = Brands"
   ]
  },
  {
   "cell_type": "code",
   "execution_count": 208,
   "id": "dbba2926",
   "metadata": {},
   "outputs": [
    {
     "data": {
      "text/plain": [
       "array(['Bajaj', 'Royal', 'Hyosung', 'Jawa', 'KTM', 'TVS', 'Yamaha',\n",
       "       'Honda', 'UM', 'Hero', 'Suzuki', 'Husqvarna', 'Mahindra',\n",
       "       'Harley-Davidson', 'Kawasaki', 'Benelli', 'Triumph', 'Ducati',\n",
       "       'BMW', 'Ideal', 'BenelliImperiale', 'Moto', 'Fb', 'Indian',\n",
       "       'Yazdi', 'Aprilia', 'MV', 'yamaha'], dtype=object)"
      ]
     },
     "execution_count": 208,
     "metadata": {},
     "output_type": "execute_result"
    }
   ],
   "source": [
    "df.Brand.unique()"
   ]
  },
  {
   "cell_type": "code",
   "execution_count": 209,
   "id": "dff9b2cc",
   "metadata": {},
   "outputs": [],
   "source": [
    "df.replace('yamaha','Yamaha',inplace=True)"
   ]
  },
  {
   "cell_type": "code",
   "execution_count": 210,
   "id": "b4c6e301",
   "metadata": {},
   "outputs": [
    {
     "data": {
      "text/plain": [
       "array(['Bajaj', 'Royal', 'Hyosung', 'Jawa', 'KTM', 'TVS', 'Yamaha',\n",
       "       'Honda', 'UM', 'Hero', 'Suzuki', 'Husqvarna', 'Mahindra',\n",
       "       'Harley-Davidson', 'Kawasaki', 'Benelli', 'Triumph', 'Ducati',\n",
       "       'BMW', 'Ideal', 'BenelliImperiale', 'Moto', 'Fb', 'Indian',\n",
       "       'Yazdi', 'Aprilia', 'MV'], dtype=object)"
      ]
     },
     "execution_count": 210,
     "metadata": {},
     "output_type": "execute_result"
    }
   ],
   "source": [
    "df.Brand.unique()"
   ]
  },
  {
   "cell_type": "code",
   "execution_count": 211,
   "id": "7c73eca2",
   "metadata": {},
   "outputs": [
    {
     "data": {
      "text/html": [
       "<div>\n",
       "<style scoped>\n",
       "    .dataframe tbody tr th:only-of-type {\n",
       "        vertical-align: middle;\n",
       "    }\n",
       "\n",
       "    .dataframe tbody tr th {\n",
       "        vertical-align: top;\n",
       "    }\n",
       "\n",
       "    .dataframe thead th {\n",
       "        text-align: right;\n",
       "    }\n",
       "</style>\n",
       "<table border=\"1\" class=\"dataframe\">\n",
       "  <thead>\n",
       "    <tr style=\"text-align: right;\">\n",
       "      <th></th>\n",
       "      <th>model_name</th>\n",
       "      <th>model_year</th>\n",
       "      <th>kms_driven</th>\n",
       "      <th>owner</th>\n",
       "      <th>location</th>\n",
       "      <th>mileage</th>\n",
       "      <th>power</th>\n",
       "      <th>price</th>\n",
       "      <th>cc</th>\n",
       "      <th>Brand</th>\n",
       "    </tr>\n",
       "  </thead>\n",
       "  <tbody>\n",
       "    <tr>\n",
       "      <th>0</th>\n",
       "      <td>Bajaj Avenger Cruise 220 2017</td>\n",
       "      <td>2017</td>\n",
       "      <td>17000 Km</td>\n",
       "      <td>first owner</td>\n",
       "      <td>hyderabad</td>\n",
       "      <td>\\n\\n 35 kmpl</td>\n",
       "      <td>19 bhp</td>\n",
       "      <td>63500</td>\n",
       "      <td>220</td>\n",
       "      <td>Bajaj</td>\n",
       "    </tr>\n",
       "    <tr>\n",
       "      <th>1</th>\n",
       "      <td>Royal Enfield Classic 350cc 2016</td>\n",
       "      <td>2016</td>\n",
       "      <td>50000 Km</td>\n",
       "      <td>first owner</td>\n",
       "      <td>hyderabad</td>\n",
       "      <td>\\n\\n 35 kmpl</td>\n",
       "      <td>19.80 bhp</td>\n",
       "      <td>115000</td>\n",
       "      <td>350</td>\n",
       "      <td>Royal</td>\n",
       "    </tr>\n",
       "    <tr>\n",
       "      <th>2</th>\n",
       "      <td>Hyosung GT250R 2012</td>\n",
       "      <td>2012</td>\n",
       "      <td>14795 Km</td>\n",
       "      <td>first owner</td>\n",
       "      <td>hyderabad</td>\n",
       "      <td>\\n\\n 30 kmpl</td>\n",
       "      <td>28 bhp</td>\n",
       "      <td>300000</td>\n",
       "      <td>250</td>\n",
       "      <td>Hyosung</td>\n",
       "    </tr>\n",
       "    <tr>\n",
       "      <th>3</th>\n",
       "      <td>Bajaj Dominar 400 ABS 2017</td>\n",
       "      <td>2017</td>\n",
       "      <td>Mileage 28 Kms</td>\n",
       "      <td>first owner</td>\n",
       "      <td>pondicherry</td>\n",
       "      <td>\\n\\n 28 Kms</td>\n",
       "      <td>34.50 bhp</td>\n",
       "      <td>100000</td>\n",
       "      <td>400</td>\n",
       "      <td>Bajaj</td>\n",
       "    </tr>\n",
       "    <tr>\n",
       "      <th>4</th>\n",
       "      <td>Jawa Perak 330cc 2020</td>\n",
       "      <td>2020</td>\n",
       "      <td>2000 Km</td>\n",
       "      <td>first owner</td>\n",
       "      <td>bangalore</td>\n",
       "      <td>\\n\\n</td>\n",
       "      <td>30 bhp</td>\n",
       "      <td>197500</td>\n",
       "      <td>330</td>\n",
       "      <td>Jawa</td>\n",
       "    </tr>\n",
       "  </tbody>\n",
       "</table>\n",
       "</div>"
      ],
      "text/plain": [
       "                         model_name  model_year      kms_driven        owner  \\\n",
       "0     Bajaj Avenger Cruise 220 2017        2017        17000 Km  first owner   \n",
       "1  Royal Enfield Classic 350cc 2016        2016        50000 Km  first owner   \n",
       "2               Hyosung GT250R 2012        2012        14795 Km  first owner   \n",
       "3        Bajaj Dominar 400 ABS 2017        2017  Mileage 28 Kms  first owner   \n",
       "4             Jawa Perak 330cc 2020        2020         2000 Km  first owner   \n",
       "\n",
       "      location       mileage      power   price   cc    Brand  \n",
       "0    hyderabad  \\n\\n 35 kmpl     19 bhp   63500  220    Bajaj  \n",
       "1    hyderabad  \\n\\n 35 kmpl  19.80 bhp  115000  350    Royal  \n",
       "2    hyderabad  \\n\\n 30 kmpl     28 bhp  300000  250  Hyosung  \n",
       "3  pondicherry   \\n\\n 28 Kms  34.50 bhp  100000  400    Bajaj  \n",
       "4    bangalore         \\n\\n      30 bhp  197500  330     Jawa  "
      ]
     },
     "execution_count": 211,
     "metadata": {},
     "output_type": "execute_result"
    }
   ],
   "source": [
    "df.head()"
   ]
  },
  {
   "cell_type": "code",
   "execution_count": 212,
   "id": "3ed833f7",
   "metadata": {},
   "outputs": [],
   "source": [
    "def clean_kms(val):\n",
    "    val = str(val).lower().strip()\n",
    "    \n",
    "    # case 1: values like \"Mileage 65 Kmpl\"\n",
    "    if \"kmpl\" in val:\n",
    "        return np.nan   # mark as missing  \n",
    "    \n",
    "    # case 2: values like \"7759 Km\"\n",
    "    if \"km\" in val:\n",
    "        val = val.replace(\"km\", \"\").replace(\",\", \"\").strip()\n",
    "        return float(val) if val.isdigit() else np.nan\n",
    "    \n",
    "    return np.nan\n",
    "\n",
    "df[\"kms_driven\"] = df[\"kms_driven\"].apply(clean_kms)\n"
   ]
  },
  {
   "cell_type": "code",
   "execution_count": 213,
   "id": "922b4b1c",
   "metadata": {},
   "outputs": [
    {
     "data": {
      "text/plain": [
       "model_name       0\n",
       "model_year       0\n",
       "kms_driven    1988\n",
       "owner            0\n",
       "location        19\n",
       "mileage         11\n",
       "power           31\n",
       "price            0\n",
       "cc               0\n",
       "Brand            0\n",
       "dtype: int64"
      ]
     },
     "execution_count": 213,
     "metadata": {},
     "output_type": "execute_result"
    }
   ],
   "source": [
    "df.isna().sum()"
   ]
  },
  {
   "cell_type": "code",
   "execution_count": 214,
   "id": "8f1a9410",
   "metadata": {},
   "outputs": [
    {
     "data": {
      "text/html": [
       "<div>\n",
       "<style scoped>\n",
       "    .dataframe tbody tr th:only-of-type {\n",
       "        vertical-align: middle;\n",
       "    }\n",
       "\n",
       "    .dataframe tbody tr th {\n",
       "        vertical-align: top;\n",
       "    }\n",
       "\n",
       "    .dataframe thead th {\n",
       "        text-align: right;\n",
       "    }\n",
       "</style>\n",
       "<table border=\"1\" class=\"dataframe\">\n",
       "  <thead>\n",
       "    <tr style=\"text-align: right;\">\n",
       "      <th></th>\n",
       "      <th>model_name</th>\n",
       "      <th>model_year</th>\n",
       "      <th>kms_driven</th>\n",
       "      <th>owner</th>\n",
       "      <th>location</th>\n",
       "      <th>mileage</th>\n",
       "      <th>power</th>\n",
       "      <th>price</th>\n",
       "      <th>cc</th>\n",
       "      <th>Brand</th>\n",
       "    </tr>\n",
       "  </thead>\n",
       "  <tbody>\n",
       "    <tr>\n",
       "      <th>0</th>\n",
       "      <td>Bajaj Avenger Cruise 220 2017</td>\n",
       "      <td>2017</td>\n",
       "      <td>17000.0</td>\n",
       "      <td>first owner</td>\n",
       "      <td>hyderabad</td>\n",
       "      <td>\\n\\n 35 kmpl</td>\n",
       "      <td>19 bhp</td>\n",
       "      <td>63500</td>\n",
       "      <td>220</td>\n",
       "      <td>Bajaj</td>\n",
       "    </tr>\n",
       "    <tr>\n",
       "      <th>1</th>\n",
       "      <td>Royal Enfield Classic 350cc 2016</td>\n",
       "      <td>2016</td>\n",
       "      <td>50000.0</td>\n",
       "      <td>first owner</td>\n",
       "      <td>hyderabad</td>\n",
       "      <td>\\n\\n 35 kmpl</td>\n",
       "      <td>19.80 bhp</td>\n",
       "      <td>115000</td>\n",
       "      <td>350</td>\n",
       "      <td>Royal</td>\n",
       "    </tr>\n",
       "    <tr>\n",
       "      <th>2</th>\n",
       "      <td>Hyosung GT250R 2012</td>\n",
       "      <td>2012</td>\n",
       "      <td>14795.0</td>\n",
       "      <td>first owner</td>\n",
       "      <td>hyderabad</td>\n",
       "      <td>\\n\\n 30 kmpl</td>\n",
       "      <td>28 bhp</td>\n",
       "      <td>300000</td>\n",
       "      <td>250</td>\n",
       "      <td>Hyosung</td>\n",
       "    </tr>\n",
       "    <tr>\n",
       "      <th>3</th>\n",
       "      <td>Bajaj Dominar 400 ABS 2017</td>\n",
       "      <td>2017</td>\n",
       "      <td>NaN</td>\n",
       "      <td>first owner</td>\n",
       "      <td>pondicherry</td>\n",
       "      <td>\\n\\n 28 Kms</td>\n",
       "      <td>34.50 bhp</td>\n",
       "      <td>100000</td>\n",
       "      <td>400</td>\n",
       "      <td>Bajaj</td>\n",
       "    </tr>\n",
       "    <tr>\n",
       "      <th>4</th>\n",
       "      <td>Jawa Perak 330cc 2020</td>\n",
       "      <td>2020</td>\n",
       "      <td>2000.0</td>\n",
       "      <td>first owner</td>\n",
       "      <td>bangalore</td>\n",
       "      <td>\\n\\n</td>\n",
       "      <td>30 bhp</td>\n",
       "      <td>197500</td>\n",
       "      <td>330</td>\n",
       "      <td>Jawa</td>\n",
       "    </tr>\n",
       "  </tbody>\n",
       "</table>\n",
       "</div>"
      ],
      "text/plain": [
       "                         model_name  model_year  kms_driven        owner  \\\n",
       "0     Bajaj Avenger Cruise 220 2017        2017     17000.0  first owner   \n",
       "1  Royal Enfield Classic 350cc 2016        2016     50000.0  first owner   \n",
       "2               Hyosung GT250R 2012        2012     14795.0  first owner   \n",
       "3        Bajaj Dominar 400 ABS 2017        2017         NaN  first owner   \n",
       "4             Jawa Perak 330cc 2020        2020      2000.0  first owner   \n",
       "\n",
       "      location       mileage      power   price   cc    Brand  \n",
       "0    hyderabad  \\n\\n 35 kmpl     19 bhp   63500  220    Bajaj  \n",
       "1    hyderabad  \\n\\n 35 kmpl  19.80 bhp  115000  350    Royal  \n",
       "2    hyderabad  \\n\\n 30 kmpl     28 bhp  300000  250  Hyosung  \n",
       "3  pondicherry   \\n\\n 28 Kms  34.50 bhp  100000  400    Bajaj  \n",
       "4    bangalore         \\n\\n      30 bhp  197500  330     Jawa  "
      ]
     },
     "execution_count": 214,
     "metadata": {},
     "output_type": "execute_result"
    }
   ],
   "source": [
    "df.head()"
   ]
  },
  {
   "cell_type": "code",
   "execution_count": 215,
   "id": "d78be5de",
   "metadata": {},
   "outputs": [
    {
     "data": {
      "text/plain": [
       "1000000.0"
      ]
     },
     "execution_count": 215,
     "metadata": {},
     "output_type": "execute_result"
    }
   ],
   "source": [
    "df.kms_driven.max()"
   ]
  },
  {
   "cell_type": "code",
   "execution_count": 216,
   "id": "c38e8157",
   "metadata": {},
   "outputs": [
    {
     "data": {
      "text/plain": [
       "0.0"
      ]
     },
     "execution_count": 216,
     "metadata": {},
     "output_type": "execute_result"
    }
   ],
   "source": [
    "df.kms_driven.min()"
   ]
  },
  {
   "cell_type": "code",
   "execution_count": 217,
   "id": "3f09684e",
   "metadata": {},
   "outputs": [
    {
     "data": {
      "text/plain": [
       "23090.124723121487"
      ]
     },
     "execution_count": 217,
     "metadata": {},
     "output_type": "execute_result"
    }
   ],
   "source": [
    "df.kms_driven.mean()"
   ]
  },
  {
   "cell_type": "code",
   "execution_count": 218,
   "id": "037e9c52",
   "metadata": {},
   "outputs": [
    {
     "data": {
      "text/plain": [
       "17000.0"
      ]
     },
     "execution_count": 218,
     "metadata": {},
     "output_type": "execute_result"
    }
   ],
   "source": [
    "df.kms_driven.median()"
   ]
  },
  {
   "cell_type": "code",
   "execution_count": 219,
   "id": "71603671",
   "metadata": {},
   "outputs": [
    {
     "name": "stdout",
     "output_type": "stream",
     "text": [
      "Q1: 8903.0\n",
      "Q3: 30000.0\n",
      "IQR: 21097.0\n",
      "Lower Bound: -22742.5\n",
      "Upper Bound: 61645.5\n",
      "Number of outliers: 290\n"
     ]
    }
   ],
   "source": [
    " # Calculate Q1, Q3, and IQR\n",
    "Q1 = df['kms_driven'].quantile(0.25)\n",
    "Q3 = df['kms_driven'].quantile(0.75)\n",
    "IQR = Q3 - Q1\n",
    "\n",
    "# Calculate bounds\n",
    "lower_bound = Q1 - 1.5 * IQR\n",
    "upper_bound = Q3 + 1.5 * IQR\n",
    "\n",
    "print(\"Q1:\", Q1)\n",
    "print(\"Q3:\", Q3)\n",
    "print(\"IQR:\", IQR)\n",
    "print(\"Lower Bound:\", lower_bound)\n",
    "print(\"Upper Bound:\", upper_bound)\n",
    "\n",
    "# Detect outliers\n",
    "outliers = df[(df['kms_driven'] < lower_bound) | (df['kms_driven'] > upper_bound)]\n",
    "print(\"Number of outliers:\", len(outliers))\n",
    "\n",
    "# Optionally remove outliers\n",
    "##df_no_outliers = df[(df['kms_driven'] >= lower_bound) & (df['kms_driven'] <= upper_bound)]\n"
   ]
  },
  {
   "cell_type": "code",
   "execution_count": 220,
   "id": "4de12932",
   "metadata": {},
   "outputs": [
    {
     "name": "stdout",
     "output_type": "stream",
     "text": [
      "      model_year  kms_driven       mileage             power   price\n",
      "1020        2003   1000000.0  \\n\\n 83 kmpl          7.70 bhp   23500\n",
      "5572        2011    620010.0  \\n\\n 45 kmpl            17 bhp   28000\n",
      "4489        2000    550000.0  \\n\\n 37 kmpl         19.80 bhp  105000\n",
      "1371        2014    550000.0  \\n\\n 38 kmpl         18.28 bhp   50000\n",
      "1597        2016    416242.0  \\n\\n 25 kmpl          26.37 PS  120000\n",
      "2768        1994    366600.0  \\n\\n 45 kmpl           7.44bhp   36508\n",
      "1498        2016    310000.0  \\n\\n 38 kmpl            21 bhp   55000\n",
      "4621        2016    310000.0  \\n\\n 38 kmpl            21 bhp   50000\n",
      "2901        2015    303000.0  \\n\\n 35 kmpl         19.80 Bhp  110000\n",
      "6471        2019    270839.0  \\n\\n 35 kmpl         19.80 bhp  190000\n",
      "7798        2010    253621.0   \\n\\n 5 kmpl           8.2 Bhp   18000\n",
      "1373        2010    240000.0  \\n\\n 75 kmpl             9 bhp   26000\n",
      "3122        2018    230000.0         \\n\\n            15.5 PS   48750\n",
      "4961        2003    200000.0  \\n\\n 67 kmpl            7.8 PS   20000\n",
      "6392        2012    190000.0  \\n\\n 37 kmpl         19.80 bhp   98300\n",
      "4081        1999    173340.0  \\n\\n 45 kmpl           7.44bhp   14000\n",
      "5878        2012    172082.0         \\n\\n             12 bhp   25000\n",
      "3010        2019    146178.0         \\n\\n          16.10 bhp   80000\n",
      "478         2020    145990.0         \\n\\n          10.72 bhp   30000\n",
      "3201        2015    145000.0  \\n\\n 55 kmpl  6.72 KW (9.1 Ps)   28200\n"
     ]
    }
   ],
   "source": [
    "# Show top 20 bikes with highest kms_driven\n",
    "print(df[['model_year','kms_driven','mileage','power','price']].sort_values(by='kms_driven', ascending=False).head(20))\n"
   ]
  },
  {
   "cell_type": "code",
   "execution_count": 221,
   "id": "2db1ff49",
   "metadata": {},
   "outputs": [],
   "source": [
    "df['kms_driven'] = df['kms_driven'].fillna(df['kms_driven'].mean())\n"
   ]
  },
  {
   "cell_type": "code",
   "execution_count": 222,
   "id": "b506218e",
   "metadata": {},
   "outputs": [
    {
     "data": {
      "text/plain": [
       "0"
      ]
     },
     "execution_count": 222,
     "metadata": {},
     "output_type": "execute_result"
    }
   ],
   "source": [
    "df.kms_driven.isna().sum()"
   ]
  },
  {
   "cell_type": "code",
   "execution_count": 223,
   "id": "95343232",
   "metadata": {},
   "outputs": [],
   "source": [
    "import seaborn as sns\n",
    "import matplotlib.pyplot as plt"
   ]
  },
  {
   "cell_type": "code",
   "execution_count": 224,
   "id": "de232233",
   "metadata": {},
   "outputs": [
    {
     "name": "stderr",
     "output_type": "stream",
     "text": [
      "/opt/anaconda3/envs/ml_env/lib/python3.10/site-packages/pandas/core/arraylike.py:399: RuntimeWarning: divide by zero encountered in log\n",
      "  result = getattr(ufunc, method)(*inputs, **kwargs)\n"
     ]
    },
    {
     "data": {
      "image/png": "[encoded data removed]",
      "text/plain": [
       "<Figure size 600x600 with 1 Axes>"
      ]
     },
     "metadata": {},
     "output_type": "display_data"
    }
   ],
   "source": [
    "plt.figure(figsize=(6,6))\n",
    "sns.boxplot(x=np.log(df['kms_driven']))    \n",
    "plt.ylabel(\"Kms Driven\")\n",
    "plt.show()"
   ]
  },
  {
   "cell_type": "code",
   "execution_count": 225,
   "id": "a548edaa",
   "metadata": {},
   "outputs": [
    {
     "data": {
      "text/html": [
       "<div>\n",
       "<style scoped>\n",
       "    .dataframe tbody tr th:only-of-type {\n",
       "        vertical-align: middle;\n",
       "    }\n",
       "\n",
       "    .dataframe tbody tr th {\n",
       "        vertical-align: top;\n",
       "    }\n",
       "\n",
       "    .dataframe thead th {\n",
       "        text-align: right;\n",
       "    }\n",
       "</style>\n",
       "<table border=\"1\" class=\"dataframe\">\n",
       "  <thead>\n",
       "    <tr style=\"text-align: right;\">\n",
       "      <th></th>\n",
       "      <th>model_name</th>\n",
       "      <th>model_year</th>\n",
       "      <th>kms_driven</th>\n",
       "      <th>owner</th>\n",
       "      <th>location</th>\n",
       "      <th>mileage</th>\n",
       "      <th>power</th>\n",
       "      <th>price</th>\n",
       "      <th>cc</th>\n",
       "      <th>Brand</th>\n",
       "    </tr>\n",
       "  </thead>\n",
       "  <tbody>\n",
       "    <tr>\n",
       "      <th>0</th>\n",
       "      <td>Bajaj Avenger Cruise 220 2017</td>\n",
       "      <td>2017</td>\n",
       "      <td>17000.000000</td>\n",
       "      <td>first owner</td>\n",
       "      <td>hyderabad</td>\n",
       "      <td>\\n\\n 35 kmpl</td>\n",
       "      <td>19 bhp</td>\n",
       "      <td>63500</td>\n",
       "      <td>220</td>\n",
       "      <td>Bajaj</td>\n",
       "    </tr>\n",
       "    <tr>\n",
       "      <th>1</th>\n",
       "      <td>Royal Enfield Classic 350cc 2016</td>\n",
       "      <td>2016</td>\n",
       "      <td>50000.000000</td>\n",
       "      <td>first owner</td>\n",
       "      <td>hyderabad</td>\n",
       "      <td>\\n\\n 35 kmpl</td>\n",
       "      <td>19.80 bhp</td>\n",
       "      <td>115000</td>\n",
       "      <td>350</td>\n",
       "      <td>Royal</td>\n",
       "    </tr>\n",
       "    <tr>\n",
       "      <th>2</th>\n",
       "      <td>Hyosung GT250R 2012</td>\n",
       "      <td>2012</td>\n",
       "      <td>14795.000000</td>\n",
       "      <td>first owner</td>\n",
       "      <td>hyderabad</td>\n",
       "      <td>\\n\\n 30 kmpl</td>\n",
       "      <td>28 bhp</td>\n",
       "      <td>300000</td>\n",
       "      <td>250</td>\n",
       "      <td>Hyosung</td>\n",
       "    </tr>\n",
       "    <tr>\n",
       "      <th>3</th>\n",
       "      <td>Bajaj Dominar 400 ABS 2017</td>\n",
       "      <td>2017</td>\n",
       "      <td>23090.124723</td>\n",
       "      <td>first owner</td>\n",
       "      <td>pondicherry</td>\n",
       "      <td>\\n\\n 28 Kms</td>\n",
       "      <td>34.50 bhp</td>\n",
       "      <td>100000</td>\n",
       "      <td>400</td>\n",
       "      <td>Bajaj</td>\n",
       "    </tr>\n",
       "    <tr>\n",
       "      <th>4</th>\n",
       "      <td>Jawa Perak 330cc 2020</td>\n",
       "      <td>2020</td>\n",
       "      <td>2000.000000</td>\n",
       "      <td>first owner</td>\n",
       "      <td>bangalore</td>\n",
       "      <td>\\n\\n</td>\n",
       "      <td>30 bhp</td>\n",
       "      <td>197500</td>\n",
       "      <td>330</td>\n",
       "      <td>Jawa</td>\n",
       "    </tr>\n",
       "  </tbody>\n",
       "</table>\n",
       "</div>"
      ],
      "text/plain": [
       "                         model_name  model_year    kms_driven        owner  \\\n",
       "0     Bajaj Avenger Cruise 220 2017        2017  17000.000000  first owner   \n",
       "1  Royal Enfield Classic 350cc 2016        2016  50000.000000  first owner   \n",
       "2               Hyosung GT250R 2012        2012  14795.000000  first owner   \n",
       "3        Bajaj Dominar 400 ABS 2017        2017  23090.124723  first owner   \n",
       "4             Jawa Perak 330cc 2020        2020   2000.000000  first owner   \n",
       "\n",
       "      location       mileage      power   price   cc    Brand  \n",
       "0    hyderabad  \\n\\n 35 kmpl     19 bhp   63500  220    Bajaj  \n",
       "1    hyderabad  \\n\\n 35 kmpl  19.80 bhp  115000  350    Royal  \n",
       "2    hyderabad  \\n\\n 30 kmpl     28 bhp  300000  250  Hyosung  \n",
       "3  pondicherry   \\n\\n 28 Kms  34.50 bhp  100000  400    Bajaj  \n",
       "4    bangalore         \\n\\n      30 bhp  197500  330     Jawa  "
      ]
     },
     "execution_count": 225,
     "metadata": {},
     "output_type": "execute_result"
    }
   ],
   "source": [
    "df.head()"
   ]
  },
  {
   "cell_type": "code",
   "execution_count": 226,
   "id": "a9f78aa1",
   "metadata": {},
   "outputs": [
    {
     "data": {
      "text/plain": [
       "location\n",
       "delhi          1438\n",
       "mumbai          857\n",
       "bangalore       783\n",
       "pune            343\n",
       "hyderabad       337\n",
       "               ... \n",
       "mubarakpur        1\n",
       "ambur             1\n",
       "bhatkal           1\n",
       "khopoli           1\n",
       "sidlaghatta       1\n",
       "Name: count, Length: 561, dtype: int64"
      ]
     },
     "execution_count": 226,
     "metadata": {},
     "output_type": "execute_result"
    }
   ],
   "source": [
    "df.location.value_counts().sort_values(ascending=False)"
   ]
  },
  {
   "cell_type": "code",
   "execution_count": 227,
   "id": "5c408d34",
   "metadata": {},
   "outputs": [],
   "source": [
    "top_n = 30  # keep top 30 cities\n",
    "top_locations = df['location'].value_counts().nlargest(top_n).index\n",
    "\n",
    "df['location'] = df['location'].apply(lambda x: x if x in top_locations else \"Other\")\n"
   ]
  },
  {
   "cell_type": "code",
   "execution_count": 228,
   "id": "255034dc",
   "metadata": {},
   "outputs": [
    {
     "data": {
      "text/html": [
       "<div>\n",
       "<style scoped>\n",
       "    .dataframe tbody tr th:only-of-type {\n",
       "        vertical-align: middle;\n",
       "    }\n",
       "\n",
       "    .dataframe tbody tr th {\n",
       "        vertical-align: top;\n",
       "    }\n",
       "\n",
       "    .dataframe thead th {\n",
       "        text-align: right;\n",
       "    }\n",
       "</style>\n",
       "<table border=\"1\" class=\"dataframe\">\n",
       "  <thead>\n",
       "    <tr style=\"text-align: right;\">\n",
       "      <th></th>\n",
       "      <th>model_name</th>\n",
       "      <th>model_year</th>\n",
       "      <th>kms_driven</th>\n",
       "      <th>owner</th>\n",
       "      <th>location</th>\n",
       "      <th>mileage</th>\n",
       "      <th>power</th>\n",
       "      <th>price</th>\n",
       "      <th>cc</th>\n",
       "      <th>Brand</th>\n",
       "    </tr>\n",
       "  </thead>\n",
       "  <tbody>\n",
       "    <tr>\n",
       "      <th>0</th>\n",
       "      <td>Bajaj Avenger Cruise 220 2017</td>\n",
       "      <td>2017</td>\n",
       "      <td>17000.000000</td>\n",
       "      <td>first owner</td>\n",
       "      <td>hyderabad</td>\n",
       "      <td>\\n\\n 35 kmpl</td>\n",
       "      <td>19 bhp</td>\n",
       "      <td>63500</td>\n",
       "      <td>220</td>\n",
       "      <td>Bajaj</td>\n",
       "    </tr>\n",
       "    <tr>\n",
       "      <th>1</th>\n",
       "      <td>Royal Enfield Classic 350cc 2016</td>\n",
       "      <td>2016</td>\n",
       "      <td>50000.000000</td>\n",
       "      <td>first owner</td>\n",
       "      <td>hyderabad</td>\n",
       "      <td>\\n\\n 35 kmpl</td>\n",
       "      <td>19.80 bhp</td>\n",
       "      <td>115000</td>\n",
       "      <td>350</td>\n",
       "      <td>Royal</td>\n",
       "    </tr>\n",
       "    <tr>\n",
       "      <th>2</th>\n",
       "      <td>Hyosung GT250R 2012</td>\n",
       "      <td>2012</td>\n",
       "      <td>14795.000000</td>\n",
       "      <td>first owner</td>\n",
       "      <td>hyderabad</td>\n",
       "      <td>\\n\\n 30 kmpl</td>\n",
       "      <td>28 bhp</td>\n",
       "      <td>300000</td>\n",
       "      <td>250</td>\n",
       "      <td>Hyosung</td>\n",
       "    </tr>\n",
       "    <tr>\n",
       "      <th>3</th>\n",
       "      <td>Bajaj Dominar 400 ABS 2017</td>\n",
       "      <td>2017</td>\n",
       "      <td>23090.124723</td>\n",
       "      <td>first owner</td>\n",
       "      <td>Other</td>\n",
       "      <td>\\n\\n 28 Kms</td>\n",
       "      <td>34.50 bhp</td>\n",
       "      <td>100000</td>\n",
       "      <td>400</td>\n",
       "      <td>Bajaj</td>\n",
       "    </tr>\n",
       "    <tr>\n",
       "      <th>4</th>\n",
       "      <td>Jawa Perak 330cc 2020</td>\n",
       "      <td>2020</td>\n",
       "      <td>2000.000000</td>\n",
       "      <td>first owner</td>\n",
       "      <td>bangalore</td>\n",
       "      <td>\\n\\n</td>\n",
       "      <td>30 bhp</td>\n",
       "      <td>197500</td>\n",
       "      <td>330</td>\n",
       "      <td>Jawa</td>\n",
       "    </tr>\n",
       "  </tbody>\n",
       "</table>\n",
       "</div>"
      ],
      "text/plain": [
       "                         model_name  model_year    kms_driven        owner  \\\n",
       "0     Bajaj Avenger Cruise 220 2017        2017  17000.000000  first owner   \n",
       "1  Royal Enfield Classic 350cc 2016        2016  50000.000000  first owner   \n",
       "2               Hyosung GT250R 2012        2012  14795.000000  first owner   \n",
       "3        Bajaj Dominar 400 ABS 2017        2017  23090.124723  first owner   \n",
       "4             Jawa Perak 330cc 2020        2020   2000.000000  first owner   \n",
       "\n",
       "    location       mileage      power   price   cc    Brand  \n",
       "0  hyderabad  \\n\\n 35 kmpl     19 bhp   63500  220    Bajaj  \n",
       "1  hyderabad  \\n\\n 35 kmpl  19.80 bhp  115000  350    Royal  \n",
       "2  hyderabad  \\n\\n 30 kmpl     28 bhp  300000  250  Hyosung  \n",
       "3      Other   \\n\\n 28 Kms  34.50 bhp  100000  400    Bajaj  \n",
       "4  bangalore         \\n\\n      30 bhp  197500  330     Jawa  "
      ]
     },
     "execution_count": 228,
     "metadata": {},
     "output_type": "execute_result"
    }
   ],
   "source": [
    "df.head()"
   ]
  },
  {
   "cell_type": "code",
   "execution_count": 229,
   "id": "6c5dd172",
   "metadata": {},
   "outputs": [
    {
     "data": {
      "text/plain": [
       "mileage\n",
       "\\n\\n 35 kmpl      1071\n",
       "\\n\\n               727\n",
       "\\n\\n 40 kmpl       618\n",
       "\\n\\n 65 Kmpl       436\n",
       "\\n\\n 25 kmpl       329\n",
       "                  ... \n",
       "\\n\\n 54 kmpl         1\n",
       "\\n\\n 25kmpl          1\n",
       "\\n\\n 77 Kmpl         1\n",
       "\\n\\n 96.9 Kmpl       1\n",
       "\\n\\n 70 kmpl         1\n",
       "Name: count, Length: 117, dtype: int64"
      ]
     },
     "execution_count": 229,
     "metadata": {},
     "output_type": "execute_result"
    }
   ],
   "source": [
    "df.mileage.value_counts()"
   ]
  },
  {
   "cell_type": "code",
   "execution_count": 230,
   "id": "a4240788",
   "metadata": {},
   "outputs": [
    {
     "data": {
      "text/plain": [
       "11"
      ]
     },
     "execution_count": 230,
     "metadata": {},
     "output_type": "execute_result"
    }
   ],
   "source": [
    "df.mileage.isna().sum()"
   ]
  },
  {
   "cell_type": "code",
   "execution_count": 231,
   "id": "295db8f2",
   "metadata": {},
   "outputs": [],
   "source": [
    "mil = df.mileage.to_list()\n",
    "mil = [str(i).lower().replace('kmpl','').split(\"-\")[0] for i in mil ]\n",
    "mil = [str(i).lower().replace('kms','') for i in mil ]\n",
    "mil = [str(i).replace('\\n','') for i in mil ]\n",
    "mil = [str(i).strip() for i in mil]\n",
    "df.mileage = mil"
   ]
  },
  {
   "cell_type": "code",
   "execution_count": 232,
   "id": "5cdafe9f",
   "metadata": {},
   "outputs": [
    {
     "data": {
      "text/html": [
       "<div>\n",
       "<style scoped>\n",
       "    .dataframe tbody tr th:only-of-type {\n",
       "        vertical-align: middle;\n",
       "    }\n",
       "\n",
       "    .dataframe tbody tr th {\n",
       "        vertical-align: top;\n",
       "    }\n",
       "\n",
       "    .dataframe thead th {\n",
       "        text-align: right;\n",
       "    }\n",
       "</style>\n",
       "<table border=\"1\" class=\"dataframe\">\n",
       "  <thead>\n",
       "    <tr style=\"text-align: right;\">\n",
       "      <th></th>\n",
       "      <th>model_name</th>\n",
       "      <th>model_year</th>\n",
       "      <th>kms_driven</th>\n",
       "      <th>owner</th>\n",
       "      <th>location</th>\n",
       "      <th>mileage</th>\n",
       "      <th>power</th>\n",
       "      <th>price</th>\n",
       "      <th>cc</th>\n",
       "      <th>Brand</th>\n",
       "    </tr>\n",
       "  </thead>\n",
       "  <tbody>\n",
       "    <tr>\n",
       "      <th>4</th>\n",
       "      <td>Jawa Perak 330cc 2020</td>\n",
       "      <td>2020</td>\n",
       "      <td>2000.0</td>\n",
       "      <td>first owner</td>\n",
       "      <td>bangalore</td>\n",
       "      <td></td>\n",
       "      <td>30 bhp</td>\n",
       "      <td>197500</td>\n",
       "      <td>330</td>\n",
       "      <td>Jawa</td>\n",
       "    </tr>\n",
       "    <tr>\n",
       "      <th>40</th>\n",
       "      <td>Bajaj Discover 110cc 2019</td>\n",
       "      <td>2019</td>\n",
       "      <td>45000.0</td>\n",
       "      <td>first owner</td>\n",
       "      <td>chittorgarh</td>\n",
       "      <td></td>\n",
       "      <td>8.60 bhp</td>\n",
       "      <td>46000</td>\n",
       "      <td>110</td>\n",
       "      <td>Bajaj</td>\n",
       "    </tr>\n",
       "    <tr>\n",
       "      <th>50</th>\n",
       "      <td>Royal Enfield Bullet 350cc 2019</td>\n",
       "      <td>2019</td>\n",
       "      <td>27300.0</td>\n",
       "      <td>first owner</td>\n",
       "      <td>hyderabad</td>\n",
       "      <td></td>\n",
       "      <td>19.80 bhp</td>\n",
       "      <td>130000</td>\n",
       "      <td>350</td>\n",
       "      <td>Royal</td>\n",
       "    </tr>\n",
       "    <tr>\n",
       "      <th>62</th>\n",
       "      <td>Royal Enfield Thunderbird X 350cc ABS 2019</td>\n",
       "      <td>2019</td>\n",
       "      <td>9000.0</td>\n",
       "      <td>first owner</td>\n",
       "      <td>mumbai</td>\n",
       "      <td></td>\n",
       "      <td>19.80 bhp</td>\n",
       "      <td>166000</td>\n",
       "      <td>350</td>\n",
       "      <td>Royal</td>\n",
       "    </tr>\n",
       "    <tr>\n",
       "      <th>63</th>\n",
       "      <td>TVS Apache RTR 160 4V DISC ABS 2019</td>\n",
       "      <td>2019</td>\n",
       "      <td>21500.0</td>\n",
       "      <td>first owner</td>\n",
       "      <td>hyderabad</td>\n",
       "      <td></td>\n",
       "      <td>16.1 bhp</td>\n",
       "      <td>93000</td>\n",
       "      <td>160</td>\n",
       "      <td>TVS</td>\n",
       "    </tr>\n",
       "    <tr>\n",
       "      <th>...</th>\n",
       "      <td>...</td>\n",
       "      <td>...</td>\n",
       "      <td>...</td>\n",
       "      <td>...</td>\n",
       "      <td>...</td>\n",
       "      <td>...</td>\n",
       "      <td>...</td>\n",
       "      <td>...</td>\n",
       "      <td>...</td>\n",
       "      <td>...</td>\n",
       "    </tr>\n",
       "    <tr>\n",
       "      <th>7815</th>\n",
       "      <td>Honda Livo 110cc 2019</td>\n",
       "      <td>2019</td>\n",
       "      <td>15492.0</td>\n",
       "      <td>first owner</td>\n",
       "      <td>jaipur</td>\n",
       "      <td></td>\n",
       "      <td>8.25 Bhp</td>\n",
       "      <td>53214</td>\n",
       "      <td>110</td>\n",
       "      <td>Honda</td>\n",
       "    </tr>\n",
       "    <tr>\n",
       "      <th>7816</th>\n",
       "      <td>Bajaj Discover 135cc 2010</td>\n",
       "      <td>2010</td>\n",
       "      <td>21728.0</td>\n",
       "      <td>first owner</td>\n",
       "      <td>chennai</td>\n",
       "      <td></td>\n",
       "      <td>9.64 kw</td>\n",
       "      <td>16000</td>\n",
       "      <td>135</td>\n",
       "      <td>Bajaj</td>\n",
       "    </tr>\n",
       "    <tr>\n",
       "      <th>7832</th>\n",
       "      <td>Bajaj Discover 135cc 2009</td>\n",
       "      <td>2009</td>\n",
       "      <td>18000.0</td>\n",
       "      <td>first owner</td>\n",
       "      <td>delhi</td>\n",
       "      <td></td>\n",
       "      <td>9.64 kw</td>\n",
       "      <td>21000</td>\n",
       "      <td>135</td>\n",
       "      <td>Bajaj</td>\n",
       "    </tr>\n",
       "    <tr>\n",
       "      <th>7837</th>\n",
       "      <td>Bajaj Discover 135cc 2009</td>\n",
       "      <td>2009</td>\n",
       "      <td>25000.0</td>\n",
       "      <td>first owner</td>\n",
       "      <td>delhi</td>\n",
       "      <td></td>\n",
       "      <td>9.64 kw</td>\n",
       "      <td>22000</td>\n",
       "      <td>135</td>\n",
       "      <td>Bajaj</td>\n",
       "    </tr>\n",
       "    <tr>\n",
       "      <th>7850</th>\n",
       "      <td>TVS Apache RTR 160 4V Carburetor With Rear Dis...</td>\n",
       "      <td>2018</td>\n",
       "      <td>16510.0</td>\n",
       "      <td>first owner</td>\n",
       "      <td>ahmedabad</td>\n",
       "      <td></td>\n",
       "      <td>16.10 bhp</td>\n",
       "      <td>60000</td>\n",
       "      <td>160</td>\n",
       "      <td>TVS</td>\n",
       "    </tr>\n",
       "  </tbody>\n",
       "</table>\n",
       "<p>727 rows × 10 columns</p>\n",
       "</div>"
      ],
      "text/plain": [
       "                                             model_name  model_year  \\\n",
       "4                                 Jawa Perak 330cc 2020        2020   \n",
       "40                            Bajaj Discover 110cc 2019        2019   \n",
       "50                      Royal Enfield Bullet 350cc 2019        2019   \n",
       "62           Royal Enfield Thunderbird X 350cc ABS 2019        2019   \n",
       "63                  TVS Apache RTR 160 4V DISC ABS 2019        2019   \n",
       "...                                                 ...         ...   \n",
       "7815                              Honda Livo 110cc 2019        2019   \n",
       "7816                          Bajaj Discover 135cc 2010        2010   \n",
       "7832                          Bajaj Discover 135cc 2009        2009   \n",
       "7837                          Bajaj Discover 135cc 2009        2009   \n",
       "7850  TVS Apache RTR 160 4V Carburetor With Rear Dis...        2018   \n",
       "\n",
       "      kms_driven        owner     location mileage      power   price   cc  \\\n",
       "4         2000.0  first owner    bangalore             30 bhp  197500  330   \n",
       "40       45000.0  first owner  chittorgarh           8.60 bhp   46000  110   \n",
       "50       27300.0  first owner    hyderabad          19.80 bhp  130000  350   \n",
       "62        9000.0  first owner       mumbai          19.80 bhp  166000  350   \n",
       "63       21500.0  first owner    hyderabad           16.1 bhp   93000  160   \n",
       "...          ...          ...          ...     ...        ...     ...  ...   \n",
       "7815     15492.0  first owner       jaipur           8.25 Bhp   53214  110   \n",
       "7816     21728.0  first owner      chennai            9.64 kw   16000  135   \n",
       "7832     18000.0  first owner        delhi            9.64 kw   21000  135   \n",
       "7837     25000.0  first owner        delhi            9.64 kw   22000  135   \n",
       "7850     16510.0  first owner    ahmedabad          16.10 bhp   60000  160   \n",
       "\n",
       "      Brand  \n",
       "4      Jawa  \n",
       "40    Bajaj  \n",
       "50    Royal  \n",
       "62    Royal  \n",
       "63      TVS  \n",
       "...     ...  \n",
       "7815  Honda  \n",
       "7816  Bajaj  \n",
       "7832  Bajaj  \n",
       "7837  Bajaj  \n",
       "7850    TVS  \n",
       "\n",
       "[727 rows x 10 columns]"
      ]
     },
     "execution_count": 232,
     "metadata": {},
     "output_type": "execute_result"
    }
   ],
   "source": [
    "df[df['mileage'] == '']"
   ]
  },
  {
   "cell_type": "code",
   "execution_count": 233,
   "id": "fbef2879",
   "metadata": {},
   "outputs": [],
   "source": [
    "df['mileage'] = df['mileage'].replace('',np.nan)"
   ]
  },
  {
   "cell_type": "code",
   "execution_count": 234,
   "id": "cb5c0387",
   "metadata": {},
   "outputs": [
    {
     "data": {
      "text/plain": [
       "727"
      ]
     },
     "execution_count": 234,
     "metadata": {},
     "output_type": "execute_result"
    }
   ],
   "source": [
    "df.mileage.isna().sum()"
   ]
  },
  {
   "cell_type": "code",
   "execution_count": 235,
   "id": "b2a33bc8",
   "metadata": {},
   "outputs": [],
   "source": [
    "# Convert mileage column to numeric\n",
    "df['mileage'] = pd.to_numeric(df['mileage'], errors='coerce')\n",
    " "
   ]
  },
  {
   "cell_type": "code",
   "execution_count": 236,
   "id": "c6f14dcc",
   "metadata": {},
   "outputs": [],
   "source": [
    "\n",
    "# Now fill NaN with median\n",
    "df['mileage'] = df['mileage'].fillna(df['mileage'].median())"
   ]
  },
  {
   "cell_type": "code",
   "execution_count": 237,
   "id": "c5e90bbe",
   "metadata": {},
   "outputs": [
    {
     "data": {
      "text/plain": [
       "0    40.0\n",
       "Name: mileage, dtype: float64"
      ]
     },
     "execution_count": 237,
     "metadata": {},
     "output_type": "execute_result"
    }
   ],
   "source": [
    "df.mileage.mode()"
   ]
  },
  {
   "cell_type": "code",
   "execution_count": 238,
   "id": "1da21bc8",
   "metadata": {},
   "outputs": [],
   "source": [
    "df['mileage'] = df['mileage'].replace('liquid cooled',37.6)"
   ]
  },
  {
   "cell_type": "code",
   "execution_count": 239,
   "id": "cee3b370",
   "metadata": {},
   "outputs": [
    {
     "data": {
      "text/plain": [
       "0       35.0\n",
       "1       35.0\n",
       "2       30.0\n",
       "3       28.0\n",
       "4       40.0\n",
       "        ... \n",
       "7852    42.0\n",
       "7853    80.0\n",
       "7854    65.0\n",
       "7855    57.0\n",
       "7856    38.0\n",
       "Name: mileage, Length: 7857, dtype: float64"
      ]
     },
     "execution_count": 239,
     "metadata": {},
     "output_type": "execute_result"
    }
   ],
   "source": [
    "df.mileage.astype(float)"
   ]
  },
  {
   "cell_type": "code",
   "execution_count": null,
   "id": "31685399",
   "metadata": {},
   "outputs": [],
   "source": []
  },
  {
   "cell_type": "code",
   "execution_count": 240,
   "id": "88cfc405",
   "metadata": {},
   "outputs": [
    {
     "data": {
      "text/plain": [
       "<Axes: xlabel='mileage'>"
      ]
     },
     "execution_count": 240,
     "metadata": {},
     "output_type": "execute_result"
    },
    {
     "data": {
      "image/png": "[encoded data removed]",
      "text/plain": [
       "<Figure size 640x480 with 1 Axes>"
      ]
     },
     "metadata": {},
     "output_type": "display_data"
    }
   ],
   "source": [
    "sns.boxplot(x=df.mileage)"
   ]
  },
  {
   "cell_type": "code",
   "execution_count": 241,
   "id": "c595e7ff",
   "metadata": {},
   "outputs": [
    {
     "name": "stdout",
     "output_type": "stream",
     "text": [
      "      model_year  mileage  price                          model_name\n",
      "7721        2012    104.0  19000            Bajaj Platina 100cc 2012\n",
      "392         2019    104.0  48000            Bajaj Platina 100cc 2019\n",
      "305         2019    104.0  55000   Bajaj Platina Alloy ES-110cc 2019\n",
      "1249        2018    104.0  45000  Bajaj Platina  Alloy ES-100cc 2018\n",
      "99          2019    104.0  57000  Bajaj Platina  Alloy ES-100cc 2019\n",
      "928         2014    104.0  28000            Bajaj Platina 100cc 2014\n",
      "4466        2019    104.0  48400   Bajaj Platina Alloy ES-110cc 2019\n",
      "4589        2015    104.0  25000            Bajaj Platina 100cc 2015\n",
      "4588        2017    104.0  30000  Bajaj Platina  Alloy ES-100cc 2017\n",
      "7635        2011    104.0  16000            Bajaj Platina 100cc 2011\n",
      "4365        2011    104.0  24000            Bajaj Platina 100cc 2011\n",
      "7602        2014    104.0  20000            Bajaj Platina 100cc 2014\n",
      "7842        2010    104.0  14800            Bajaj Platina 100cc 2010\n",
      "5349        2009    104.0  20000            Bajaj Platina 100cc 2009\n",
      "5514        2019    104.0  45000            Bajaj Platina 100cc 2019\n",
      "3969        2007    104.0  15000            Bajaj Platina 100cc 2007\n",
      "4233        2015    104.0  32000            Bajaj Platina 100cc 2015\n",
      "7441        2011    104.0  20000            Bajaj Platina 100cc 2011\n",
      "3223        2014    104.0  27000            Bajaj Platina 100cc 2014\n",
      "5521        2016    104.0  32000            Bajaj Platina 100cc 2016\n"
     ]
    }
   ],
   "source": [
    "# Show top 20 bikes with highest kms_driven\n",
    "print(df[['model_year','mileage','price','model_name']].sort_values(by='mileage', ascending=False).head(20))\n"
   ]
  },
  {
   "cell_type": "code",
   "execution_count": 242,
   "id": "47d53419",
   "metadata": {},
   "outputs": [
    {
     "name": "stderr",
     "output_type": "stream",
     "text": [
      "/var/folders/l6/86qm81zs261bb1d74___k8pc0000gn/T/ipykernel_74532/2573563076.py:2: FutureWarning: Setting an item of incompatible dtype is deprecated and will raise an error in a future version of pandas. Value '80' has dtype incompatible with float64, please explicitly cast to a compatible dtype first.\n",
      "  df.loc[df['model_name'].str.contains('Platina ', na=False), 'mileage'] = '80'\n"
     ]
    }
   ],
   "source": [
    "# Example: set mileage = '80' where model_name contains 'Platina 100cc'\n",
    "df.loc[df['model_name'].str.contains('Platina ', na=False), 'mileage'] = '80'\n"
   ]
  },
  {
   "cell_type": "code",
   "execution_count": 243,
   "id": "366ea9c1",
   "metadata": {},
   "outputs": [],
   "source": [
    "# Example: set mileage = '80' where model_name contains 'Platina 100cc'\n",
    "df.loc[df['model_name'].str.contains('TVS Sport', na=False), 'mileage'] = '80'\n"
   ]
  },
  {
   "cell_type": "code",
   "execution_count": 244,
   "id": "0145751d",
   "metadata": {},
   "outputs": [],
   "source": [
    "# Example: set mileage = '80' where model_name contains 'Platina 100cc'\n",
    "df.loc[df['model_name'].str.contains('TVS Star Sport', na=False), 'mileage'] = '80'\n"
   ]
  },
  {
   "cell_type": "code",
   "execution_count": 245,
   "id": "3e2d6929",
   "metadata": {},
   "outputs": [],
   "source": [
    "# Remove unwanted text and convert to numeric\n",
    "df['mileage'] = (\n",
    "    df['mileage']\n",
    "    .astype(str)                 # ensure all strings\n",
    "    .str.extract(r'(\\d+\\.?\\d*)') # extract number part\n",
    "    .astype(float)               # convert to float\n",
    ")\n"
   ]
  },
  {
   "cell_type": "code",
   "execution_count": 246,
   "id": "d7bc00cf",
   "metadata": {},
   "outputs": [
    {
     "data": {
      "text/html": [
       "<div>\n",
       "<style scoped>\n",
       "    .dataframe tbody tr th:only-of-type {\n",
       "        vertical-align: middle;\n",
       "    }\n",
       "\n",
       "    .dataframe tbody tr th {\n",
       "        vertical-align: top;\n",
       "    }\n",
       "\n",
       "    .dataframe thead th {\n",
       "        text-align: right;\n",
       "    }\n",
       "</style>\n",
       "<table border=\"1\" class=\"dataframe\">\n",
       "  <thead>\n",
       "    <tr style=\"text-align: right;\">\n",
       "      <th></th>\n",
       "      <th>model_name</th>\n",
       "      <th>model_year</th>\n",
       "      <th>kms_driven</th>\n",
       "      <th>owner</th>\n",
       "      <th>location</th>\n",
       "      <th>mileage</th>\n",
       "      <th>power</th>\n",
       "      <th>price</th>\n",
       "      <th>cc</th>\n",
       "      <th>Brand</th>\n",
       "    </tr>\n",
       "  </thead>\n",
       "  <tbody>\n",
       "    <tr>\n",
       "      <th>0</th>\n",
       "      <td>Bajaj Avenger Cruise 220 2017</td>\n",
       "      <td>2017</td>\n",
       "      <td>17000.000000</td>\n",
       "      <td>first owner</td>\n",
       "      <td>hyderabad</td>\n",
       "      <td>35.0</td>\n",
       "      <td>19 bhp</td>\n",
       "      <td>63500</td>\n",
       "      <td>220</td>\n",
       "      <td>Bajaj</td>\n",
       "    </tr>\n",
       "    <tr>\n",
       "      <th>1</th>\n",
       "      <td>Royal Enfield Classic 350cc 2016</td>\n",
       "      <td>2016</td>\n",
       "      <td>50000.000000</td>\n",
       "      <td>first owner</td>\n",
       "      <td>hyderabad</td>\n",
       "      <td>35.0</td>\n",
       "      <td>19.80 bhp</td>\n",
       "      <td>115000</td>\n",
       "      <td>350</td>\n",
       "      <td>Royal</td>\n",
       "    </tr>\n",
       "    <tr>\n",
       "      <th>2</th>\n",
       "      <td>Hyosung GT250R 2012</td>\n",
       "      <td>2012</td>\n",
       "      <td>14795.000000</td>\n",
       "      <td>first owner</td>\n",
       "      <td>hyderabad</td>\n",
       "      <td>30.0</td>\n",
       "      <td>28 bhp</td>\n",
       "      <td>300000</td>\n",
       "      <td>250</td>\n",
       "      <td>Hyosung</td>\n",
       "    </tr>\n",
       "    <tr>\n",
       "      <th>3</th>\n",
       "      <td>Bajaj Dominar 400 ABS 2017</td>\n",
       "      <td>2017</td>\n",
       "      <td>23090.124723</td>\n",
       "      <td>first owner</td>\n",
       "      <td>Other</td>\n",
       "      <td>28.0</td>\n",
       "      <td>34.50 bhp</td>\n",
       "      <td>100000</td>\n",
       "      <td>400</td>\n",
       "      <td>Bajaj</td>\n",
       "    </tr>\n",
       "    <tr>\n",
       "      <th>4</th>\n",
       "      <td>Jawa Perak 330cc 2020</td>\n",
       "      <td>2020</td>\n",
       "      <td>2000.000000</td>\n",
       "      <td>first owner</td>\n",
       "      <td>bangalore</td>\n",
       "      <td>40.0</td>\n",
       "      <td>30 bhp</td>\n",
       "      <td>197500</td>\n",
       "      <td>330</td>\n",
       "      <td>Jawa</td>\n",
       "    </tr>\n",
       "  </tbody>\n",
       "</table>\n",
       "</div>"
      ],
      "text/plain": [
       "                         model_name  model_year    kms_driven        owner  \\\n",
       "0     Bajaj Avenger Cruise 220 2017        2017  17000.000000  first owner   \n",
       "1  Royal Enfield Classic 350cc 2016        2016  50000.000000  first owner   \n",
       "2               Hyosung GT250R 2012        2012  14795.000000  first owner   \n",
       "3        Bajaj Dominar 400 ABS 2017        2017  23090.124723  first owner   \n",
       "4             Jawa Perak 330cc 2020        2020   2000.000000  first owner   \n",
       "\n",
       "    location  mileage      power   price   cc    Brand  \n",
       "0  hyderabad     35.0     19 bhp   63500  220    Bajaj  \n",
       "1  hyderabad     35.0  19.80 bhp  115000  350    Royal  \n",
       "2  hyderabad     30.0     28 bhp  300000  250  Hyosung  \n",
       "3      Other     28.0  34.50 bhp  100000  400    Bajaj  \n",
       "4  bangalore     40.0     30 bhp  197500  330     Jawa  "
      ]
     },
     "execution_count": 246,
     "metadata": {},
     "output_type": "execute_result"
    }
   ],
   "source": [
    "df.head()"
   ]
  },
  {
   "cell_type": "code",
   "execution_count": 247,
   "id": "73e14387",
   "metadata": {},
   "outputs": [
    {
     "data": {
      "text/plain": [
       "0"
      ]
     },
     "execution_count": 247,
     "metadata": {},
     "output_type": "execute_result"
    }
   ],
   "source": [
    "df.mileage.isna().sum()"
   ]
  },
  {
   "cell_type": "code",
   "execution_count": 248,
   "id": "8efb0d48",
   "metadata": {},
   "outputs": [
    {
     "data": {
      "text/plain": [
       "power\n",
       "19.80 bhp           922\n",
       "13 bhp              354\n",
       "27.20 bhp           283\n",
       "19 bhp              271\n",
       "24.50 bhp           207\n",
       "                   ... \n",
       "20.51 bhp             1\n",
       "25.1 bhp              1\n",
       "85.8 BHP              1\n",
       "15.1 bhp              1\n",
       "14.9 kW (20 BHP)      1\n",
       "Name: count, Length: 272, dtype: int64"
      ]
     },
     "execution_count": 248,
     "metadata": {},
     "output_type": "execute_result"
    }
   ],
   "source": [
    "df.power.value_counts()"
   ]
  },
  {
   "cell_type": "code",
   "execution_count": 249,
   "id": "b7b0057b",
   "metadata": {},
   "outputs": [
    {
     "data": {
      "text/plain": [
       "31"
      ]
     },
     "execution_count": 249,
     "metadata": {},
     "output_type": "execute_result"
    }
   ],
   "source": [
    "df.power.isna().sum()"
   ]
  },
  {
   "cell_type": "code",
   "execution_count": 250,
   "id": "82d99f1b",
   "metadata": {},
   "outputs": [
    {
     "data": {
      "text/plain": [
       "(array([ 135, 1627, 1691, 1716, 2442, 2487, 2638, 2659, 2714, 2819, 3088,\n",
       "        3977, 4393, 4425, 4591, 4760, 5626, 5673, 5694, 5788, 5950, 6155,\n",
       "        6321, 6781, 6853, 7306, 7442, 7513, 7783, 7796, 7801]),)"
      ]
     },
     "execution_count": 250,
     "metadata": {},
     "output_type": "execute_result"
    }
   ],
   "source": [
    "val= df.power.isna()\n",
    "np.where(val == True)"
   ]
  },
  {
   "cell_type": "code",
   "execution_count": 251,
   "id": "a66207a7",
   "metadata": {},
   "outputs": [],
   "source": [
    "df.iloc[135,df.columns.get_loc(\"power\")] = \"28\"\n",
    "df.iloc[1627,df.columns.get_loc(\"power\")] = \"14\"\n",
    "df.iloc[1691,df.columns.get_loc(\"power\")] = \"18\"\n",
    "df.iloc[1716,df.columns.get_loc(\"power\")] = \"18\"\n",
    "df.iloc[2442,df.columns.get_loc(\"power\")] = \"87\"\n",
    "df.iloc[2487,df.columns.get_loc(\"power\")] = \"18\"\n",
    "df.iloc[2638,df.columns.get_loc(\"power\")] = \"16\"\n",
    "\n",
    "df.iloc[2659,df.columns.get_loc(\"power\")] = \"64\"\n",
    "df.iloc[2714,df.columns.get_loc(\"power\")] = \"18\"\n",
    "df.iloc[2819,df.columns.get_loc(\"power\")] = \"87\"\n",
    "df.iloc[3088,df.columns.get_loc(\"power\")] = \"18\"\n",
    "df.iloc[3977,df.columns.get_loc(\"power\")] = \"37.5\"\n",
    "df.iloc[4393,df.columns.get_loc(\"power\")] = \"18\"\n",
    "df.iloc[4425,df.columns.get_loc(\"power\")] = \"111\"\n",
    "df.iloc[4591,df.columns.get_loc(\"power\")] = \"75.1\"\n",
    "df.iloc[4760,df.columns.get_loc(\"power\")] = \"18\"\n",
    "df.iloc[5626,df.columns.get_loc(\"power\")] = \"65\"\n",
    "df.iloc[5673,df.columns.get_loc(\"power\")] = \"89.2\"\n",
    "df.iloc[5694,df.columns.get_loc(\"power\")] = \"64\"\n",
    "df.iloc[5788,df.columns.get_loc(\"power\")] = \"11\"\n",
    "df.iloc[5950,df.columns.get_loc(\"power\")] = \"26.21\"\n",
    "df.iloc[6155,df.columns.get_loc(\"power\")] = \"15.2\"\n",
    "df.iloc[6321,df.columns.get_loc(\"power\")] = \"26.21\"\n",
    "df.iloc[6781,df.columns.get_loc(\"power\")] = \"28.15\"\n",
    "df.iloc[6853,df.columns.get_loc(\"power\")] = \"15.2\"\n",
    "df.iloc[7306,df.columns.get_loc(\"power\")] = \"10.70\"\n",
    "df.iloc[7442,df.columns.get_loc(\"power\")] = \"7.4\"\n",
    "df.iloc[7513,df.columns.get_loc(\"power\")] = \"23.17\"\n",
    "df.iloc[7783,df.columns.get_loc(\"power\")] = \"24.13\"\n",
    "df.iloc[7796,df.columns.get_loc(\"power\")] = \"7.4\"\n",
    "df.iloc[7801,df.columns.get_loc(\"power\")] = \"8.24\"\n",
    "df.iloc[7303,df.columns.get_loc(\"power\")] = '7.6'\n",
    "df.iloc[7303,df.columns.get_loc(\"power\")] = '7.6'\n",
    "df.iloc[7439,df.columns.get_loc(\"power\")] = '7.9'\n",
    "df.iloc[7510,df.columns.get_loc(\"power\")] = '24.13'\n",
    "df.iloc[7780,df.columns.get_loc(\"power\")] = '24.10'\n",
    "df.iloc[7793,df.columns.get_loc(\"power\")] = '7.9'\n",
    "df.iloc[7798,df.columns.get_loc(\"power\")] = '8.2'\n",
    "\n",
    "\n",
    "\n",
    "\n"
   ]
  },
  {
   "cell_type": "code",
   "execution_count": 252,
   "id": "115526a3",
   "metadata": {},
   "outputs": [],
   "source": [
    "for index, row in df.iterrows():\n",
    "    value = str(row[\"power\"]).lower().strip()\n",
    "    \n",
    "    # Skip NaN or empty\n",
    "    if value in [\"nan\", \"\", \"none\"]:\n",
    "        continue\n",
    "\n",
    "    # Remove text after '@' (e.g., \"15.2 bhp @ 8500 rpm\")\n",
    "    if \"@\" in value:\n",
    "        value = value.split(\"@\")[0].strip()\n",
    "\n",
    "    # Extract the first number in the string\n",
    "    match = re.search(r\"[\\d\\.]+\", value)\n",
    "    if not match:\n",
    "        df.at[index, \"power\"] = None\n",
    "        continue\n",
    "    num = float(match.group())\n",
    "\n",
    "    # Convert units into BHP\n",
    "    if \"bhp\" in value:\n",
    "        df.at[index, \"power\"] = num\n",
    "\n",
    "    elif \"hp\" in value and \"bhp\" not in value:  # \"hp\" but not \"bhp\"\n",
    "        df.at[index, \"power\"] = num * 0.986   # hp → bhp\n",
    "\n",
    "    elif \"kw\" in value:\n",
    "        df.at[index, \"power\"] = num * 1.341   # kW → bhp\n",
    "\n",
    "    elif \"ps\" in value:\n",
    "        df.at[index, \"power\"] = num * 0.99    # PS → bhp\n",
    "\n",
    "    else:\n",
    "        df.at[index, \"power\"] = num\n"
   ]
  },
  {
   "cell_type": "code",
   "execution_count": 253,
   "id": "b6c54134",
   "metadata": {},
   "outputs": [
    {
     "data": {
      "text/plain": [
       "0"
      ]
     },
     "execution_count": 253,
     "metadata": {},
     "output_type": "execute_result"
    }
   ],
   "source": [
    "df.power.isna().sum()"
   ]
  },
  {
   "cell_type": "code",
   "execution_count": 254,
   "id": "4476ab6f",
   "metadata": {},
   "outputs": [
    {
     "data": {
      "text/html": [
       "<div>\n",
       "<style scoped>\n",
       "    .dataframe tbody tr th:only-of-type {\n",
       "        vertical-align: middle;\n",
       "    }\n",
       "\n",
       "    .dataframe tbody tr th {\n",
       "        vertical-align: top;\n",
       "    }\n",
       "\n",
       "    .dataframe thead th {\n",
       "        text-align: right;\n",
       "    }\n",
       "</style>\n",
       "<table border=\"1\" class=\"dataframe\">\n",
       "  <thead>\n",
       "    <tr style=\"text-align: right;\">\n",
       "      <th></th>\n",
       "      <th>model_name</th>\n",
       "      <th>model_year</th>\n",
       "      <th>kms_driven</th>\n",
       "      <th>owner</th>\n",
       "      <th>location</th>\n",
       "      <th>mileage</th>\n",
       "      <th>power</th>\n",
       "      <th>price</th>\n",
       "      <th>cc</th>\n",
       "      <th>Brand</th>\n",
       "    </tr>\n",
       "  </thead>\n",
       "  <tbody>\n",
       "    <tr>\n",
       "      <th>0</th>\n",
       "      <td>Bajaj Avenger Cruise 220 2017</td>\n",
       "      <td>2017</td>\n",
       "      <td>17000.000000</td>\n",
       "      <td>first owner</td>\n",
       "      <td>hyderabad</td>\n",
       "      <td>35.0</td>\n",
       "      <td>19.0</td>\n",
       "      <td>63500</td>\n",
       "      <td>220</td>\n",
       "      <td>Bajaj</td>\n",
       "    </tr>\n",
       "    <tr>\n",
       "      <th>1</th>\n",
       "      <td>Royal Enfield Classic 350cc 2016</td>\n",
       "      <td>2016</td>\n",
       "      <td>50000.000000</td>\n",
       "      <td>first owner</td>\n",
       "      <td>hyderabad</td>\n",
       "      <td>35.0</td>\n",
       "      <td>19.8</td>\n",
       "      <td>115000</td>\n",
       "      <td>350</td>\n",
       "      <td>Royal</td>\n",
       "    </tr>\n",
       "    <tr>\n",
       "      <th>2</th>\n",
       "      <td>Hyosung GT250R 2012</td>\n",
       "      <td>2012</td>\n",
       "      <td>14795.000000</td>\n",
       "      <td>first owner</td>\n",
       "      <td>hyderabad</td>\n",
       "      <td>30.0</td>\n",
       "      <td>28.0</td>\n",
       "      <td>300000</td>\n",
       "      <td>250</td>\n",
       "      <td>Hyosung</td>\n",
       "    </tr>\n",
       "    <tr>\n",
       "      <th>3</th>\n",
       "      <td>Bajaj Dominar 400 ABS 2017</td>\n",
       "      <td>2017</td>\n",
       "      <td>23090.124723</td>\n",
       "      <td>first owner</td>\n",
       "      <td>Other</td>\n",
       "      <td>28.0</td>\n",
       "      <td>34.5</td>\n",
       "      <td>100000</td>\n",
       "      <td>400</td>\n",
       "      <td>Bajaj</td>\n",
       "    </tr>\n",
       "    <tr>\n",
       "      <th>4</th>\n",
       "      <td>Jawa Perak 330cc 2020</td>\n",
       "      <td>2020</td>\n",
       "      <td>2000.000000</td>\n",
       "      <td>first owner</td>\n",
       "      <td>bangalore</td>\n",
       "      <td>40.0</td>\n",
       "      <td>30.0</td>\n",
       "      <td>197500</td>\n",
       "      <td>330</td>\n",
       "      <td>Jawa</td>\n",
       "    </tr>\n",
       "  </tbody>\n",
       "</table>\n",
       "</div>"
      ],
      "text/plain": [
       "                         model_name  model_year    kms_driven        owner  \\\n",
       "0     Bajaj Avenger Cruise 220 2017        2017  17000.000000  first owner   \n",
       "1  Royal Enfield Classic 350cc 2016        2016  50000.000000  first owner   \n",
       "2               Hyosung GT250R 2012        2012  14795.000000  first owner   \n",
       "3        Bajaj Dominar 400 ABS 2017        2017  23090.124723  first owner   \n",
       "4             Jawa Perak 330cc 2020        2020   2000.000000  first owner   \n",
       "\n",
       "    location  mileage power   price   cc    Brand  \n",
       "0  hyderabad     35.0  19.0   63500  220    Bajaj  \n",
       "1  hyderabad     35.0  19.8  115000  350    Royal  \n",
       "2  hyderabad     30.0  28.0  300000  250  Hyosung  \n",
       "3      Other     28.0  34.5  100000  400    Bajaj  \n",
       "4  bangalore     40.0  30.0  197500  330     Jawa  "
      ]
     },
     "execution_count": 254,
     "metadata": {},
     "output_type": "execute_result"
    }
   ],
   "source": [
    "df.head()"
   ]
  },
  {
   "cell_type": "code",
   "execution_count": 255,
   "id": "507c439f",
   "metadata": {},
   "outputs": [
    {
     "data": {
      "text/html": [
       "<div>\n",
       "<style scoped>\n",
       "    .dataframe tbody tr th:only-of-type {\n",
       "        vertical-align: middle;\n",
       "    }\n",
       "\n",
       "    .dataframe tbody tr th {\n",
       "        vertical-align: top;\n",
       "    }\n",
       "\n",
       "    .dataframe thead th {\n",
       "        text-align: right;\n",
       "    }\n",
       "</style>\n",
       "<table border=\"1\" class=\"dataframe\">\n",
       "  <thead>\n",
       "    <tr style=\"text-align: right;\">\n",
       "      <th></th>\n",
       "      <th>model_name</th>\n",
       "      <th>model_year</th>\n",
       "      <th>kms_driven</th>\n",
       "      <th>owner</th>\n",
       "      <th>location</th>\n",
       "      <th>mileage</th>\n",
       "      <th>power</th>\n",
       "      <th>price</th>\n",
       "      <th>cc</th>\n",
       "      <th>Brand</th>\n",
       "    </tr>\n",
       "  </thead>\n",
       "  <tbody>\n",
       "    <tr>\n",
       "      <th>0</th>\n",
       "      <td>Bajaj Avenger Cruise 220 2017</td>\n",
       "      <td>2017</td>\n",
       "      <td>17000.000000</td>\n",
       "      <td>first owner</td>\n",
       "      <td>hyderabad</td>\n",
       "      <td>35.0</td>\n",
       "      <td>19.0</td>\n",
       "      <td>63500</td>\n",
       "      <td>220</td>\n",
       "      <td>Bajaj</td>\n",
       "    </tr>\n",
       "    <tr>\n",
       "      <th>1</th>\n",
       "      <td>Royal Enfield Classic 350cc 2016</td>\n",
       "      <td>2016</td>\n",
       "      <td>50000.000000</td>\n",
       "      <td>first owner</td>\n",
       "      <td>hyderabad</td>\n",
       "      <td>35.0</td>\n",
       "      <td>19.8</td>\n",
       "      <td>115000</td>\n",
       "      <td>350</td>\n",
       "      <td>Royal</td>\n",
       "    </tr>\n",
       "    <tr>\n",
       "      <th>2</th>\n",
       "      <td>Hyosung GT250R 2012</td>\n",
       "      <td>2012</td>\n",
       "      <td>14795.000000</td>\n",
       "      <td>first owner</td>\n",
       "      <td>hyderabad</td>\n",
       "      <td>30.0</td>\n",
       "      <td>28.0</td>\n",
       "      <td>300000</td>\n",
       "      <td>250</td>\n",
       "      <td>Hyosung</td>\n",
       "    </tr>\n",
       "    <tr>\n",
       "      <th>3</th>\n",
       "      <td>Bajaj Dominar 400 ABS 2017</td>\n",
       "      <td>2017</td>\n",
       "      <td>23090.124723</td>\n",
       "      <td>first owner</td>\n",
       "      <td>Other</td>\n",
       "      <td>28.0</td>\n",
       "      <td>34.5</td>\n",
       "      <td>100000</td>\n",
       "      <td>400</td>\n",
       "      <td>Bajaj</td>\n",
       "    </tr>\n",
       "    <tr>\n",
       "      <th>4</th>\n",
       "      <td>Jawa Perak 330cc 2020</td>\n",
       "      <td>2020</td>\n",
       "      <td>2000.000000</td>\n",
       "      <td>first owner</td>\n",
       "      <td>bangalore</td>\n",
       "      <td>40.0</td>\n",
       "      <td>30.0</td>\n",
       "      <td>197500</td>\n",
       "      <td>330</td>\n",
       "      <td>Jawa</td>\n",
       "    </tr>\n",
       "  </tbody>\n",
       "</table>\n",
       "</div>"
      ],
      "text/plain": [
       "                         model_name  model_year    kms_driven        owner  \\\n",
       "0     Bajaj Avenger Cruise 220 2017        2017  17000.000000  first owner   \n",
       "1  Royal Enfield Classic 350cc 2016        2016  50000.000000  first owner   \n",
       "2               Hyosung GT250R 2012        2012  14795.000000  first owner   \n",
       "3        Bajaj Dominar 400 ABS 2017        2017  23090.124723  first owner   \n",
       "4             Jawa Perak 330cc 2020        2020   2000.000000  first owner   \n",
       "\n",
       "    location  mileage power   price   cc    Brand  \n",
       "0  hyderabad     35.0  19.0   63500  220    Bajaj  \n",
       "1  hyderabad     35.0  19.8  115000  350    Royal  \n",
       "2  hyderabad     30.0  28.0  300000  250  Hyosung  \n",
       "3      Other     28.0  34.5  100000  400    Bajaj  \n",
       "4  bangalore     40.0  30.0  197500  330     Jawa  "
      ]
     },
     "execution_count": 255,
     "metadata": {},
     "output_type": "execute_result"
    }
   ],
   "source": [
    "df.head()"
   ]
  },
  {
   "cell_type": "code",
   "execution_count": 256,
   "id": "5ff2b45f",
   "metadata": {},
   "outputs": [],
   "source": [
    "from sklearn.preprocessing import StandardScaler"
   ]
  },
  {
   "cell_type": "code",
   "execution_count": 257,
   "id": "5eccaa33",
   "metadata": {},
   "outputs": [],
   "source": [
    "df.drop(columns='model_name',inplace=True)"
   ]
  },
  {
   "cell_type": "code",
   "execution_count": 258,
   "id": "538c0532",
   "metadata": {},
   "outputs": [
    {
     "data": {
      "text/html": [
       "<div>\n",
       "<style scoped>\n",
       "    .dataframe tbody tr th:only-of-type {\n",
       "        vertical-align: middle;\n",
       "    }\n",
       "\n",
       "    .dataframe tbody tr th {\n",
       "        vertical-align: top;\n",
       "    }\n",
       "\n",
       "    .dataframe thead th {\n",
       "        text-align: right;\n",
       "    }\n",
       "</style>\n",
       "<table border=\"1\" class=\"dataframe\">\n",
       "  <thead>\n",
       "    <tr style=\"text-align: right;\">\n",
       "      <th></th>\n",
       "      <th>model_year</th>\n",
       "      <th>kms_driven</th>\n",
       "      <th>owner</th>\n",
       "      <th>location</th>\n",
       "      <th>mileage</th>\n",
       "      <th>power</th>\n",
       "      <th>price</th>\n",
       "      <th>cc</th>\n",
       "      <th>Brand</th>\n",
       "    </tr>\n",
       "  </thead>\n",
       "  <tbody>\n",
       "    <tr>\n",
       "      <th>0</th>\n",
       "      <td>2017</td>\n",
       "      <td>17000.000000</td>\n",
       "      <td>first owner</td>\n",
       "      <td>hyderabad</td>\n",
       "      <td>35.0</td>\n",
       "      <td>19.0</td>\n",
       "      <td>63500</td>\n",
       "      <td>220</td>\n",
       "      <td>Bajaj</td>\n",
       "    </tr>\n",
       "    <tr>\n",
       "      <th>1</th>\n",
       "      <td>2016</td>\n",
       "      <td>50000.000000</td>\n",
       "      <td>first owner</td>\n",
       "      <td>hyderabad</td>\n",
       "      <td>35.0</td>\n",
       "      <td>19.8</td>\n",
       "      <td>115000</td>\n",
       "      <td>350</td>\n",
       "      <td>Royal</td>\n",
       "    </tr>\n",
       "    <tr>\n",
       "      <th>2</th>\n",
       "      <td>2012</td>\n",
       "      <td>14795.000000</td>\n",
       "      <td>first owner</td>\n",
       "      <td>hyderabad</td>\n",
       "      <td>30.0</td>\n",
       "      <td>28.0</td>\n",
       "      <td>300000</td>\n",
       "      <td>250</td>\n",
       "      <td>Hyosung</td>\n",
       "    </tr>\n",
       "    <tr>\n",
       "      <th>3</th>\n",
       "      <td>2017</td>\n",
       "      <td>23090.124723</td>\n",
       "      <td>first owner</td>\n",
       "      <td>Other</td>\n",
       "      <td>28.0</td>\n",
       "      <td>34.5</td>\n",
       "      <td>100000</td>\n",
       "      <td>400</td>\n",
       "      <td>Bajaj</td>\n",
       "    </tr>\n",
       "    <tr>\n",
       "      <th>4</th>\n",
       "      <td>2020</td>\n",
       "      <td>2000.000000</td>\n",
       "      <td>first owner</td>\n",
       "      <td>bangalore</td>\n",
       "      <td>40.0</td>\n",
       "      <td>30.0</td>\n",
       "      <td>197500</td>\n",
       "      <td>330</td>\n",
       "      <td>Jawa</td>\n",
       "    </tr>\n",
       "  </tbody>\n",
       "</table>\n",
       "</div>"
      ],
      "text/plain": [
       "   model_year    kms_driven        owner   location  mileage power   price  \\\n",
       "0        2017  17000.000000  first owner  hyderabad     35.0  19.0   63500   \n",
       "1        2016  50000.000000  first owner  hyderabad     35.0  19.8  115000   \n",
       "2        2012  14795.000000  first owner  hyderabad     30.0  28.0  300000   \n",
       "3        2017  23090.124723  first owner      Other     28.0  34.5  100000   \n",
       "4        2020   2000.000000  first owner  bangalore     40.0  30.0  197500   \n",
       "\n",
       "    cc    Brand  \n",
       "0  220    Bajaj  \n",
       "1  350    Royal  \n",
       "2  250  Hyosung  \n",
       "3  400    Bajaj  \n",
       "4  330     Jawa  "
      ]
     },
     "execution_count": 258,
     "metadata": {},
     "output_type": "execute_result"
    }
   ],
   "source": [
    "df.head()"
   ]
  },
  {
   "cell_type": "code",
   "execution_count": 259,
   "id": "26d37dd8",
   "metadata": {},
   "outputs": [
    {
     "data": {
      "text/plain": [
       "model_year     2012.511424\n",
       "kms_driven    31369.774551\n",
       "mileage          58.971880\n",
       "price         31188.156415\n",
       "cc              100.000000\n",
       "dtype: float64"
      ]
     },
     "execution_count": 259,
     "metadata": {},
     "output_type": "execute_result"
    }
   ],
   "source": [
    "df[df['cc'] == 100].mean(numeric_only=True)\n"
   ]
  },
  {
   "cell_type": "code",
   "execution_count": 260,
   "id": "323040c0",
   "metadata": {},
   "outputs": [],
   "source": [
    "# First, replace 0 with NaN (so we can fill easily)\n",
    "df['price'] = df['price'].replace(0, np.nan)\n",
    "\n",
    "# Compute mean price per cc & year\n",
    "mean_price = df.groupby(['cc', 'model_year'])['price'].transform('mean')\n"
   ]
  },
  {
   "cell_type": "code",
   "execution_count": 261,
   "id": "6b5dcd8a",
   "metadata": {},
   "outputs": [
    {
     "data": {
      "text/plain": [
       "0        68076.289157\n",
       "1       111667.014085\n",
       "2       106689.411765\n",
       "3       119391.877551\n",
       "4       204762.500000\n",
       "            ...      \n",
       "7852     30445.554217\n",
       "7853     31872.406250\n",
       "7854     53153.205128\n",
       "7855     55478.421875\n",
       "7856     60367.747475\n",
       "Name: price, Length: 7857, dtype: float64"
      ]
     },
     "execution_count": 261,
     "metadata": {},
     "output_type": "execute_result"
    }
   ],
   "source": [
    "mean_price"
   ]
  },
  {
   "cell_type": "code",
   "execution_count": 262,
   "id": "56ed7f95",
   "metadata": {},
   "outputs": [],
   "source": [
    "df['price'] = df['price'].fillna(mean_price)"
   ]
  },
  {
   "cell_type": "code",
   "execution_count": 263,
   "id": "f51070b8",
   "metadata": {},
   "outputs": [],
   "source": [
    "df['bike__age'] = 2025 - df['model_year']"
   ]
  },
  {
   "cell_type": "code",
   "execution_count": 264,
   "id": "99a9e922",
   "metadata": {},
   "outputs": [
    {
     "data": {
      "text/plain": [
       "<Axes: xlabel='Brand'>"
      ]
     },
     "execution_count": 264,
     "metadata": {},
     "output_type": "execute_result"
    },
    {
     "data": {
      "image/png": "[encoded data removed]",
      "text/plain": [
       "<Figure size 640x480 with 1 Axes>"
      ]
     },
     "metadata": {},
     "output_type": "display_data"
    }
   ],
   "source": [
    "df.Brand.value_counts().plot(kind='bar')"
   ]
  },
  {
   "cell_type": "code",
   "execution_count": 265,
   "id": "04b8caf6",
   "metadata": {},
   "outputs": [
    {
     "data": {
      "image/png": "[encoded data removed]",
      "text/plain": [
       "<Figure size 640x480 with 1 Axes>"
      ]
     },
     "metadata": {},
     "output_type": "display_data"
    }
   ],
   "source": [
    "sns.barplot(x=df.Brand,y=df.price)\n",
    "plt.xticks(rotation='vertical')\n",
    "plt.show()"
   ]
  },
  {
   "cell_type": "code",
   "execution_count": 266,
   "id": "6620071a",
   "metadata": {},
   "outputs": [
    {
     "data": {
      "text/plain": [
       "Text(0, 0.5, 'Count')"
      ]
     },
     "execution_count": 266,
     "metadata": {},
     "output_type": "execute_result"
    },
    {
     "data": {
      "image/png": "[encoded data removed]",
      "text/plain": [
       "<Figure size 640x480 with 1 Axes>"
      ]
     },
     "metadata": {},
     "output_type": "display_data"
    }
   ],
   "source": [
    "df.owner.value_counts().plot(kind='bar')\n",
    "plt.ylabel('Count')"
   ]
  },
  {
   "cell_type": "code",
   "execution_count": 267,
   "id": "5aa060ed",
   "metadata": {},
   "outputs": [
    {
     "data": {
      "image/png": "[encoded data removed]",
      "text/plain": [
       "<Figure size 2000x500 with 1 Axes>"
      ]
     },
     "metadata": {},
     "output_type": "display_data"
    }
   ],
   "source": [
    "plt.figure(figsize=(20,5))\n",
    "df.cc.value_counts().plot(kind='bar')\n",
    "plt.xticks(rotation='vertical')\n",
    "plt.show()"
   ]
  },
  {
   "cell_type": "code",
   "execution_count": 268,
   "id": "f66fd800",
   "metadata": {},
   "outputs": [
    {
     "data": {
      "text/plain": [
       "<Axes: xlabel='price', ylabel='Count'>"
      ]
     },
     "execution_count": 268,
     "metadata": {},
     "output_type": "execute_result"
    },
    {
     "data": {
      "image/png": "[encoded data removed]",
      "text/plain": [
       "<Figure size 640x480 with 1 Axes>"
      ]
     },
     "metadata": {},
     "output_type": "display_data"
    }
   ],
   "source": [
    "sns.histplot(df['price'],kde=True)"
   ]
  },
  {
   "cell_type": "code",
   "execution_count": 279,
   "id": "0d5b8451",
   "metadata": {},
   "outputs": [
    {
     "data": {
      "text/html": [
       "<div>\n",
       "<style scoped>\n",
       "    .dataframe tbody tr th:only-of-type {\n",
       "        vertical-align: middle;\n",
       "    }\n",
       "\n",
       "    .dataframe tbody tr th {\n",
       "        vertical-align: top;\n",
       "    }\n",
       "\n",
       "    .dataframe thead th {\n",
       "        text-align: right;\n",
       "    }\n",
       "</style>\n",
       "<table border=\"1\" class=\"dataframe\">\n",
       "  <thead>\n",
       "    <tr style=\"text-align: right;\">\n",
       "      <th></th>\n",
       "      <th>model_year</th>\n",
       "      <th>kms_driven</th>\n",
       "      <th>owner</th>\n",
       "      <th>location</th>\n",
       "      <th>mileage</th>\n",
       "      <th>power</th>\n",
       "      <th>price</th>\n",
       "      <th>cc</th>\n",
       "      <th>Brand</th>\n",
       "      <th>bike__age</th>\n",
       "    </tr>\n",
       "  </thead>\n",
       "  <tbody>\n",
       "    <tr>\n",
       "      <th>0</th>\n",
       "      <td>2017</td>\n",
       "      <td>17000.000000</td>\n",
       "      <td>first owner</td>\n",
       "      <td>hyderabad</td>\n",
       "      <td>35.0</td>\n",
       "      <td>19.0</td>\n",
       "      <td>63500.0</td>\n",
       "      <td>220</td>\n",
       "      <td>Bajaj</td>\n",
       "      <td>8</td>\n",
       "    </tr>\n",
       "    <tr>\n",
       "      <th>1</th>\n",
       "      <td>2016</td>\n",
       "      <td>50000.000000</td>\n",
       "      <td>first owner</td>\n",
       "      <td>hyderabad</td>\n",
       "      <td>35.0</td>\n",
       "      <td>19.8</td>\n",
       "      <td>115000.0</td>\n",
       "      <td>350</td>\n",
       "      <td>Royal</td>\n",
       "      <td>9</td>\n",
       "    </tr>\n",
       "    <tr>\n",
       "      <th>2</th>\n",
       "      <td>2012</td>\n",
       "      <td>14795.000000</td>\n",
       "      <td>first owner</td>\n",
       "      <td>hyderabad</td>\n",
       "      <td>30.0</td>\n",
       "      <td>28.0</td>\n",
       "      <td>300000.0</td>\n",
       "      <td>250</td>\n",
       "      <td>Hyosung</td>\n",
       "      <td>13</td>\n",
       "    </tr>\n",
       "    <tr>\n",
       "      <th>3</th>\n",
       "      <td>2017</td>\n",
       "      <td>23090.124723</td>\n",
       "      <td>first owner</td>\n",
       "      <td>Other</td>\n",
       "      <td>28.0</td>\n",
       "      <td>34.5</td>\n",
       "      <td>100000.0</td>\n",
       "      <td>400</td>\n",
       "      <td>Bajaj</td>\n",
       "      <td>8</td>\n",
       "    </tr>\n",
       "    <tr>\n",
       "      <th>4</th>\n",
       "      <td>2020</td>\n",
       "      <td>2000.000000</td>\n",
       "      <td>first owner</td>\n",
       "      <td>bangalore</td>\n",
       "      <td>40.0</td>\n",
       "      <td>30.0</td>\n",
       "      <td>197500.0</td>\n",
       "      <td>330</td>\n",
       "      <td>Jawa</td>\n",
       "      <td>5</td>\n",
       "    </tr>\n",
       "  </tbody>\n",
       "</table>\n",
       "</div>"
      ],
      "text/plain": [
       "   model_year    kms_driven        owner   location  mileage power     price  \\\n",
       "0        2017  17000.000000  first owner  hyderabad     35.0  19.0   63500.0   \n",
       "1        2016  50000.000000  first owner  hyderabad     35.0  19.8  115000.0   \n",
       "2        2012  14795.000000  first owner  hyderabad     30.0  28.0  300000.0   \n",
       "3        2017  23090.124723  first owner      Other     28.0  34.5  100000.0   \n",
       "4        2020   2000.000000  first owner  bangalore     40.0  30.0  197500.0   \n",
       "\n",
       "    cc    Brand  bike__age  \n",
       "0  220    Bajaj          8  \n",
       "1  350    Royal          9  \n",
       "2  250  Hyosung         13  \n",
       "3  400    Bajaj          8  \n",
       "4  330     Jawa          5  "
      ]
     },
     "execution_count": 279,
     "metadata": {},
     "output_type": "execute_result"
    }
   ],
   "source": [
    "df.head()"
   ]
  },
  {
   "cell_type": "code",
   "execution_count": 269,
   "id": "32503111",
   "metadata": {},
   "outputs": [
    {
     "data": {
      "text/plain": [
       "<Axes: xlabel='price', ylabel='Count'>"
      ]
     },
     "execution_count": 269,
     "metadata": {},
     "output_type": "execute_result"
    },
    {
     "data": {
      "image/png": "[encoded data removed]",
      "text/plain": [
       "<Figure size 640x480 with 1 Axes>"
      ]
     },
     "metadata": {},
     "output_type": "display_data"
    }
   ],
   "source": [
    "sns.histplot(np.log(df.price),kde=True)"
   ]
  },
  {
   "cell_type": "code",
   "execution_count": 270,
   "id": "38e8fdb5",
   "metadata": {},
   "outputs": [],
   "source": [
    "X = df.drop(columns='price')\n",
    "y = np.log(df.price)"
   ]
  },
  {
   "cell_type": "code",
   "execution_count": 271,
   "id": "45e4e7bc",
   "metadata": {},
   "outputs": [],
   "source": [
    "from sklearn.model_selection import train_test_split\n",
    "X_train,X_test,y_train,y_test = train_test_split(X,y,test_size=0.15,random_state=2)"
   ]
  },
  {
   "cell_type": "code",
   "execution_count": 272,
   "id": "bc6e124a",
   "metadata": {},
   "outputs": [],
   "source": [
    "from sklearn.compose import ColumnTransformer\n",
    "from sklearn.pipeline import Pipeline\n",
    "from sklearn.preprocessing import OneHotEncoder,StandardScaler\n",
    "from sklearn.metrics import r2_score,mean_absolute_error\n",
    "from sklearn.linear_model import LinearRegression,Ridge,Lasso\n",
    "from sklearn.neighbors import KNeighborsRegressor\n",
    "from sklearn.tree import DecisionTreeRegressor\n",
    "from sklearn.ensemble import RandomForestRegressor,GradientBoostingRegressor,AdaBoostRegressor,ExtraTreesRegressor\n",
    "from sklearn.svm import SVR"
   ]
  },
  {
   "cell_type": "markdown",
   "id": "b591b924",
   "metadata": {},
   "source": [
    "## Linear Regressor"
   ]
  },
  {
   "cell_type": "code",
   "execution_count": 273,
   "id": "47e207ce",
   "metadata": {},
   "outputs": [
    {
     "name": "stdout",
     "output_type": "stream",
     "text": [
      "R2 Score: 0.8350253759221886\n",
      "MAE: 0.22710752716972504\n"
     ]
    }
   ],
   "source": [
    "cat_col = ['location', 'owner','Brand']  \n",
    "num_col = ['model_year', 'kms_driven', 'power', 'mileage','bike__age']  \n",
    "\n",
    "# Step 1: Preprocessing\n",
    "step1 = ColumnTransformer(transformers=[\n",
    "    ('cat', OneHotEncoder(sparse_output=False, drop='first',handle_unknown='ignore'), cat_col),\n",
    "    ('num', StandardScaler(), num_col)\n",
    "], remainder='passthrough')\n",
    "\n",
    "# Step 2: Model\n",
    "step2 = LinearRegression()\n",
    "\n",
    "# Pipeline\n",
    "pipe = Pipeline([\n",
    "    ('step1', step1),\n",
    "    ('step2', step2)\n",
    "])\n",
    "\n",
    "# Train\n",
    "pipe.fit(X_train, y_train)\n",
    "\n",
    "# Predict\n",
    "y_pred = pipe.predict(X_test)\n",
    "\n",
    "# Metrics\n",
    "print(\"R2 Score:\", r2_score(y_test, y_pred))\n",
    "print(\"MAE:\", mean_absolute_error(y_test, y_pred))\n"
   ]
  },
  {
   "cell_type": "markdown",
   "id": "1b9a7e6d",
   "metadata": {},
   "source": [
    "## Ridge Regressor\n"
   ]
  },
  {
   "cell_type": "code",
   "execution_count": 274,
   "id": "8dc81187",
   "metadata": {},
   "outputs": [
    {
     "name": "stdout",
     "output_type": "stream",
     "text": [
      "R2 Score: 0.8330653028273011\n",
      "MAE: 0.22982615558735656\n"
     ]
    }
   ],
   "source": [
    "cat_col = ['location', 'owner','Brand']  \n",
    "num_col = ['model_year', 'kms_driven', 'power', 'mileage','bike__age']  \n",
    "\n",
    "# Step 1: Preprocessing\n",
    "step1 = ColumnTransformer(transformers=[\n",
    "    ('cat', OneHotEncoder(sparse_output=False, drop='first',handle_unknown='ignore'), cat_col),\n",
    "    ('num', StandardScaler(), num_col)\n",
    "], remainder='passthrough')\n",
    "\n",
    "# Step 2: Model\n",
    "step2 =  Ridge(alpha=10)\n",
    "\n",
    "# Pipeline\n",
    "pipe = Pipeline([\n",
    "    ('step1', step1),\n",
    "    ('step2', step2)\n",
    "])\n",
    "\n",
    "# Train\n",
    "pipe.fit(X_train, y_train)\n",
    "\n",
    "# Predict\n",
    "y_pred = pipe.predict(X_test)\n",
    "\n",
    "# Metrics\n",
    "print(\"R2 Score:\", r2_score(y_test, y_pred))\n",
    "print(\"MAE:\", mean_absolute_error(y_test, y_pred))\n"
   ]
  },
  {
   "cell_type": "markdown",
   "id": "717b880c",
   "metadata": {},
   "source": [
    "## Decision Tree Regressor\n"
   ]
  },
  {
   "cell_type": "code",
   "execution_count": 275,
   "id": "1d314d56",
   "metadata": {},
   "outputs": [
    {
     "name": "stdout",
     "output_type": "stream",
     "text": [
      "R2 Score: 0.8850183910021603\n",
      "MAE: 0.18076060471287894\n"
     ]
    }
   ],
   "source": [
    "cat_col = ['location', 'owner','Brand']  \n",
    "num_col = ['model_year', 'kms_driven', 'power', 'mileage','bike__age']  \n",
    "\n",
    "# Step 1: Preprocessing\n",
    "step1 = ColumnTransformer(transformers=[\n",
    "    ('cat', OneHotEncoder(sparse_output=False, drop='first',handle_unknown='ignore'), cat_col),\n",
    "    ('num', StandardScaler(), num_col)\n",
    "], remainder='passthrough')\n",
    "\n",
    "# Step 2: Model\n",
    "step2 =  DecisionTreeRegressor(max_depth=8)\n",
    "\n",
    "# Pipeline\n",
    "pipe = Pipeline([\n",
    "    ('step1', step1),\n",
    "    ('step2', step2)\n",
    "])\n",
    "\n",
    "# Train\n",
    "pipe.fit(X_train, y_train)\n",
    "\n",
    "# Predict\n",
    "y_pred = pipe.predict(X_test)\n",
    "\n",
    "# Metrics\n",
    "print(\"R2 Score:\", r2_score(y_test, y_pred))\n",
    "print(\"MAE:\", mean_absolute_error(y_test, y_pred))\n"
   ]
  },
  {
   "cell_type": "code",
   "execution_count": 276,
   "id": "c4b93ff1",
   "metadata": {},
   "outputs": [
    {
     "name": "stdout",
     "output_type": "stream",
     "text": [
      "R2 Score: 0.6578766519739632\n",
      "MAE: 0.3567590992226522\n"
     ]
    }
   ],
   "source": [
    "cat_col = ['location', 'owner','Brand']  \n",
    "num_col = ['model_year', 'kms_driven', 'power', 'mileage','bike__age']  \n",
    "\n",
    "# Step 1: Preprocessing\n",
    "step1 = ColumnTransformer(transformers=[\n",
    "    ('cat', OneHotEncoder(sparse_output=False, drop='first',handle_unknown='ignore'), cat_col),\n",
    "    ('num', StandardScaler(), num_col)\n",
    "], remainder='passthrough')\n",
    "\n",
    "# Step 2: Model\n",
    "step2 =  SVR()\n",
    "\n",
    "# Pipeline\n",
    "pipe = Pipeline([\n",
    "    ('step1', step1),\n",
    "    ('step2', step2)\n",
    "])\n",
    "\n",
    "# Train\n",
    "pipe.fit(X_train, y_train)\n",
    "\n",
    "# Predict\n",
    "y_pred = pipe.predict(X_test)\n",
    "\n",
    "# Metrics\n",
    "print(\"R2 Score:\", r2_score(y_test, y_pred))\n",
    "print(\"MAE:\", mean_absolute_error(y_test, y_pred))\n"
   ]
  },
  {
   "cell_type": "code",
   "execution_count": 277,
   "id": "44b4ef3c",
   "metadata": {},
   "outputs": [
    {
     "name": "stdout",
     "output_type": "stream",
     "text": [
      "R2 Score: 0.9062104384053761\n",
      "MAE: 0.1556824275610606\n"
     ]
    }
   ],
   "source": [
    "cat_col = ['location', 'owner','Brand']  \n",
    "num_col = ['model_year', 'kms_driven', 'power', 'mileage','bike__age']  \n",
    "\n",
    "# Step 1: Preprocessing\n",
    "step1 = ColumnTransformer(transformers=[\n",
    "    ('cat', OneHotEncoder(sparse_output=False, drop='first',handle_unknown='ignore'), cat_col),\n",
    "    ('num', StandardScaler(), num_col)\n",
    "], remainder='passthrough')\n",
    "\n",
    "# Step 2: Model\n",
    "step2 =   RandomForestRegressor(n_estimators=100,\n",
    "                              random_state=3,\n",
    "                              max_samples=0.5,\n",
    "                              max_features=0.75,\n",
    "                              max_depth=15)\n",
    "\n",
    "# Pipeline\n",
    "pipe = Pipeline([\n",
    "    ('step1', step1),\n",
    "    ('step2', step2)\n",
    "])\n",
    "\n",
    "# Train\n",
    "pipe.fit(X_train, y_train)\n",
    "\n",
    "# Predict\n",
    "y_pred = pipe.predict(X_test)\n",
    "\n",
    "# Metrics\n",
    "print(\"R2 Score:\", r2_score(y_test, y_pred))\n",
    "print(\"MAE:\", mean_absolute_error(y_test, y_pred))\n"
   ]
  },
  {
   "cell_type": "markdown",
   "id": "ee19d43f",
   "metadata": {},
   "source": [
    "## Export The Model"
   ]
  },
  {
   "cell_type": "code",
   "execution_count": 278,
   "id": "b4ed6b12",
   "metadata": {},
   "outputs": [],
   "source": [
    "import pickle\n",
    "\n",
    "pickle.dump(df,open('df1.pkl','wb'))\n",
    "pickle.dump(pipe,open('pipe1.pkl','wb'))"
   ]
  }
 ],
 "metadata": {
  "kernelspec": {
   "display_name": "ml_env",
   "language": "python",
   "name": "python3"
  },
  "language_info": {
   "codemirror_mode": {
    "name": "ipython",
    "version": 3
   },
   "file_extension": ".py",
   "mimetype": "text/x-python",
   "name": "python",
   "nbconvert_exporter": "python",
   "pygments_lexer": "ipython3",
   "version": "3.10.18"
  }
 },
 "nbformat": 4,
 "nbformat_minor": 5
}
